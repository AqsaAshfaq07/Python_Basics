{
 "cells": [
  {
   "cell_type": "code",
   "execution_count": 1,
   "id": "0da50835",
   "metadata": {},
   "outputs": [
    {
     "data": {
      "text/plain": [
       "[2, 3, 4, 5]"
      ]
     },
     "execution_count": 1,
     "metadata": {},
     "output_type": "execute_result"
    }
   ],
   "source": [
    "import numpy as np\n",
    "list1 = [2,3,4,5]\n",
    "list1"
   ]
  },
  {
   "cell_type": "code",
   "execution_count": 2,
   "id": "745cfc5d",
   "metadata": {},
   "outputs": [
    {
     "data": {
      "text/plain": [
       "[2, 3, 4, 5, 6]"
      ]
     },
     "execution_count": 2,
     "metadata": {},
     "output_type": "execute_result"
    }
   ],
   "source": [
    "list1.append(6)\n",
    "list1"
   ]
  },
  {
   "cell_type": "code",
   "execution_count": 3,
   "id": "5868f38c",
   "metadata": {},
   "outputs": [
    {
     "data": {
      "text/plain": [
       "5"
      ]
     },
     "execution_count": 3,
     "metadata": {},
     "output_type": "execute_result"
    }
   ],
   "source": [
    "len(list1)"
   ]
  },
  {
   "cell_type": "code",
   "execution_count": 4,
   "id": "20317b96",
   "metadata": {},
   "outputs": [
    {
     "data": {
      "text/plain": [
       "True"
      ]
     },
     "execution_count": 4,
     "metadata": {},
     "output_type": "execute_result"
    }
   ],
   "source": [
    "x = lambda a : a in list1\n",
    "x(6)"
   ]
  },
  {
   "cell_type": "code",
   "execution_count": 5,
   "id": "b085a3f2",
   "metadata": {},
   "outputs": [
    {
     "data": {
      "text/plain": [
       "8"
      ]
     },
     "execution_count": 5,
     "metadata": {},
     "output_type": "execute_result"
    }
   ],
   "source": [
    "class my_class:\n",
    "    x = 8\n",
    "\n",
    "obj1 = my_class()\n",
    "obj1.x"
   ]
  },
  {
   "cell_type": "code",
   "execution_count": 6,
   "id": "caf2f157",
   "metadata": {},
   "outputs": [
    {
     "name": "stdout",
     "output_type": "stream",
     "text": [
      "<__main__.class1 object at 0x0000011FC1FF3B50>\n"
     ]
    }
   ],
   "source": [
    "class class1:\n",
    "    def __init__ (self, name, age):\n",
    "        self.name = name\n",
    "        self.age = age\n",
    "        \n",
    "obj1 = class1('john', 14)\n",
    "print(obj1)\n",
    "# Any word can be used instead of self ... points to the first member of the class"
   ]
  },
  {
   "cell_type": "code",
   "execution_count": 7,
   "id": "c241a2d7",
   "metadata": {},
   "outputs": [],
   "source": [
    "class class1:\n",
    "    def __init__ (this, name, age):\n",
    "        this.name = name\n",
    "        this.age = age\n",
    "        \n",
    "    def __str__(this):\n",
    "        return f\"{this.name}({this.age})\"        \n",
    "        \n",
    "obj1 = class1('john', 14)\n",
    "del obj1"
   ]
  },
  {
   "cell_type": "code",
   "execution_count": 8,
   "id": "551f8c81",
   "metadata": {},
   "outputs": [
    {
     "name": "stdout",
     "output_type": "stream",
     "text": [
      "hello aqsaashfaq\n"
     ]
    }
   ],
   "source": [
    "class class2(class1):\n",
    "    def __init__ (this, fname, lname):\n",
    "        super().__init__ (fname, lname)\n",
    "        this.fname = fname\n",
    "        this.lname = lname\n",
    "        \n",
    "    def welcome(this):\n",
    "        return ( \"hello \" + this.fname + this.lname)\n",
    "        \n",
    "student = class2(\"aqsa\", \"ashfaq\")\n",
    "print(student.welcome())"
   ]
  },
  {
   "cell_type": "code",
   "execution_count": 9,
   "id": "f65338c9",
   "metadata": {},
   "outputs": [
    {
     "name": "stdout",
     "output_type": "stream",
     "text": [
      "1\n",
      "2\n"
     ]
    }
   ],
   "source": [
    "mytuple = (1,2,3)\n",
    "myit = iter(mytuple)\n",
    "print(next(myit))\n",
    "print(next(myit))\n"
   ]
  },
  {
   "cell_type": "code",
   "execution_count": 10,
   "id": "48c3c761",
   "metadata": {},
   "outputs": [
    {
     "name": "stdout",
     "output_type": "stream",
     "text": [
      "banana\n",
      "apple\n"
     ]
    }
   ],
   "source": [
    "mystr = [\"banana\", \"apple\"]\n",
    "myit = iter(mystr)\n",
    "\n",
    "print(next(myit))\n",
    "print(next(myit))"
   ]
  },
  {
   "cell_type": "code",
   "execution_count": 11,
   "id": "3f8e9c72",
   "metadata": {},
   "outputs": [],
   "source": [
    "#PYTHON CLASSES AND FUNCTIONS"
   ]
  },
  {
   "cell_type": "code",
   "execution_count": 12,
   "id": "7e18d215",
   "metadata": {},
   "outputs": [
    {
     "name": "stdout",
     "output_type": "stream",
     "text": [
      "1\n",
      "2\n",
      "3\n",
      "4\n"
     ]
    }
   ],
   "source": [
    "class MyNumbers:\n",
    "  def __iter__(self):\n",
    "    self.a = 1\n",
    "    return self\n",
    "\n",
    "  def __next__(self):\n",
    "        if self.a <= 4:\n",
    "            x = self.a\n",
    "            self.a += 1\n",
    "            return x\n",
    "        else :\n",
    "            raise StopIteration\n",
    "    \n",
    "\n",
    "myclass = MyNumbers()\n",
    "myiter = iter(myclass)\n",
    "\n",
    "print(next(myiter))\n",
    "print(next(myiter))\n",
    "print(next(myiter))\n",
    "print(next(myiter))"
   ]
  },
  {
   "cell_type": "code",
   "execution_count": 13,
   "id": "fc6be8fe",
   "metadata": {},
   "outputs": [
    {
     "name": "stdout",
     "output_type": "stream",
     "text": [
      "<function <lambda> at 0x0000011FC0BD5F70>\n"
     ]
    }
   ],
   "source": [
    "def myf():\n",
    "    print(x)\n",
    "    def another():\n",
    "         x = 2\n",
    "    \n",
    "myf()"
   ]
  },
  {
   "cell_type": "code",
   "execution_count": 14,
   "id": "efaf3676",
   "metadata": {},
   "outputs": [
    {
     "name": "stdout",
     "output_type": "stream",
     "text": [
      "200\n",
      "200\n"
     ]
    }
   ],
   "source": [
    "x = 300\n",
    "\n",
    "def myfunc():\n",
    "  global x \n",
    "  x = 200\n",
    "  print(x)\n",
    "\n",
    "myfunc()\n",
    "\n",
    "print(x)"
   ]
  },
  {
   "cell_type": "code",
   "execution_count": 15,
   "id": "3e12d899",
   "metadata": {},
   "outputs": [
    {
     "data": {
      "text/plain": [
       "'Windows'"
      ]
     },
     "execution_count": 15,
     "metadata": {},
     "output_type": "execute_result"
    }
   ],
   "source": [
    "import platform as pt\n",
    "pt.system()"
   ]
  },
  {
   "cell_type": "code",
   "execution_count": 16,
   "id": "e3fb9dea",
   "metadata": {},
   "outputs": [],
   "source": [
    "#PYTHON DATE AND TIME"
   ]
  },
  {
   "cell_type": "code",
   "execution_count": 17,
   "id": "55e7fb3e",
   "metadata": {},
   "outputs": [
    {
     "data": {
      "text/plain": [
       "datetime.datetime(2023, 3, 10, 0, 29, 29, 446198)"
      ]
     },
     "execution_count": 17,
     "metadata": {},
     "output_type": "execute_result"
    }
   ],
   "source": [
    "import datetime\n",
    "x = datetime.datetime.now()\n",
    "x"
   ]
  },
  {
   "cell_type": "code",
   "execution_count": 18,
   "id": "878ec3c2",
   "metadata": {},
   "outputs": [
    {
     "data": {
      "text/plain": [
       "2023"
      ]
     },
     "execution_count": 18,
     "metadata": {},
     "output_type": "execute_result"
    }
   ],
   "source": [
    "x.year"
   ]
  },
  {
   "cell_type": "code",
   "execution_count": 19,
   "id": "cbf66a3f",
   "metadata": {},
   "outputs": [
    {
     "data": {
      "text/plain": [
       "'Friday'"
      ]
     },
     "execution_count": 19,
     "metadata": {},
     "output_type": "execute_result"
    }
   ],
   "source": [
    "x.strftime(\"%A\")"
   ]
  },
  {
   "cell_type": "code",
   "execution_count": 20,
   "id": "cd3ec731",
   "metadata": {},
   "outputs": [
    {
     "data": {
      "text/plain": [
       "'Fri Mar 10 00:29:29 2023'"
      ]
     },
     "execution_count": 20,
     "metadata": {},
     "output_type": "execute_result"
    }
   ],
   "source": [
    "x.strftime(\"%c\")"
   ]
  },
  {
   "cell_type": "code",
   "execution_count": 21,
   "id": "51644b50",
   "metadata": {},
   "outputs": [
    {
     "data": {
      "text/plain": [
       "5"
      ]
     },
     "execution_count": 21,
     "metadata": {},
     "output_type": "execute_result"
    }
   ],
   "source": [
    "arr = [1,2,3,4,5]\n",
    "max(arr)"
   ]
  },
  {
   "cell_type": "code",
   "execution_count": 22,
   "id": "6b59c777",
   "metadata": {},
   "outputs": [
    {
     "data": {
      "text/plain": [
       "6"
      ]
     },
     "execution_count": 22,
     "metadata": {},
     "output_type": "execute_result"
    }
   ],
   "source": [
    "a = -7; b =-8; c = 9\n",
    "abs(a+b+c)"
   ]
  },
  {
   "cell_type": "code",
   "execution_count": 23,
   "id": "564c3a64",
   "metadata": {},
   "outputs": [],
   "source": [
    "#PYTHON  |  JSON"
   ]
  },
  {
   "cell_type": "code",
   "execution_count": 24,
   "id": "75062399",
   "metadata": {},
   "outputs": [
    {
     "data": {
      "text/plain": [
       "3.141592653589793"
      ]
     },
     "execution_count": 24,
     "metadata": {},
     "output_type": "execute_result"
    }
   ],
   "source": [
    "import math\n",
    "x =int(math.sqrt(64))\n",
    "x\n",
    "math.pi\n"
   ]
  },
  {
   "cell_type": "code",
   "execution_count": 25,
   "id": "dcd72fda",
   "metadata": {},
   "outputs": [
    {
     "data": {
      "text/plain": [
       "20"
      ]
     },
     "execution_count": 25,
     "metadata": {},
     "output_type": "execute_result"
    }
   ],
   "source": [
    "import json\n",
    "x = '{\"name\": \"aqsa\", \"age\": 20}'\n",
    "y = json.loads(x)\n",
    "y[\"age\"]"
   ]
  },
  {
   "cell_type": "code",
   "execution_count": 26,
   "id": "1d8d2143",
   "metadata": {},
   "outputs": [
    {
     "data": {
      "text/plain": [
       "'{\"age\": 20, \"name\": \"Aqsa\"}'"
      ]
     },
     "execution_count": 26,
     "metadata": {},
     "output_type": "execute_result"
    }
   ],
   "source": [
    "import json\n",
    "student = {  'name': 'Aqsa', 'age': 20 }\n",
    "json_student = json.dumps(student, sort_keys= True)\n",
    "json_student"
   ]
  },
  {
   "cell_type": "code",
   "execution_count": 27,
   "id": "95abc94f",
   "metadata": {},
   "outputs": [],
   "source": [
    "#PYTHON REGULAR EXPRESSIONS"
   ]
  },
  {
   "cell_type": "code",
   "execution_count": 28,
   "id": "0ffd8e60",
   "metadata": {},
   "outputs": [
    {
     "name": "stdout",
     "output_type": "stream",
     "text": [
      "yes!!\n"
     ]
    }
   ],
   "source": [
    "import re\n",
    "text = \"A quick brown fox jumps over the lazy dog.\"\n",
    "x = re.search(\"the|quick\", text)\n",
    "if x:\n",
    "    print('yes!!')\n",
    "else:\n",
    "    print('no:((')"
   ]
  },
  {
   "cell_type": "code",
   "execution_count": 29,
   "id": "7632e5db",
   "metadata": {},
   "outputs": [],
   "source": [
    "txt = \"The name of the new mayor is Mr. Melphoy!!. I am very impressed with the new mayor.\"\n",
    "find = re.findall(\"the/gi\", txt)\n",
    "if find :\n",
    "    pass"
   ]
  },
  {
   "cell_type": "code",
   "execution_count": 30,
   "id": "f6b932f6",
   "metadata": {},
   "outputs": [
    {
     "name": "stdout",
     "output_type": "stream",
     "text": [
      "['The', 'name', 'of', 'the new mayor is Mr. Melphoy!!. I am very impressed with the new mayor.']\n"
     ]
    }
   ],
   "source": [
    "splitt = re.split(\"\\s\", txt, 3)\n",
    "print(splitt)"
   ]
  },
  {
   "cell_type": "code",
   "execution_count": 31,
   "id": "30d0dfe6",
   "metadata": {},
   "outputs": [
    {
     "data": {
      "text/plain": [
       "'The name of respected new mayor is Mr. Melphoy!!. I am very impressed with respected new mayor.'"
      ]
     },
     "execution_count": 31,
     "metadata": {},
     "output_type": "execute_result"
    }
   ],
   "source": [
    "substitute = re.sub(\"the\", \"respected\", txt)\n",
    "substitute"
   ]
  },
  {
   "cell_type": "code",
   "execution_count": 32,
   "id": "61728ca4",
   "metadata": {},
   "outputs": [],
   "source": [
    "#PYTHON TRY....EXCEPT"
   ]
  },
  {
   "cell_type": "code",
   "execution_count": 33,
   "id": "d2d646a0",
   "metadata": {},
   "outputs": [
    {
     "name": "stdout",
     "output_type": "stream",
     "text": [
      "<re.Match object; span=(2, 7), match='quick'>\n",
      "4\n",
      "All fuss resolved\n"
     ]
    }
   ],
   "source": [
    "try:\n",
    "    print(x)\n",
    "except:\n",
    "    print(\"No value defined\")\n",
    "else:\n",
    "    print(4)\n",
    "finally:\n",
    "    print('All fuss resolved')"
   ]
  },
  {
   "cell_type": "code",
   "execution_count": 34,
   "id": "d5cc2e82",
   "metadata": {},
   "outputs": [
    {
     "name": "stdout",
     "output_type": "stream",
     "text": [
      "-1\n"
     ]
    }
   ],
   "source": [
    "x = -1\n",
    "print(x)"
   ]
  },
  {
   "cell_type": "code",
   "execution_count": 35,
   "id": "f024a446",
   "metadata": {},
   "outputs": [
    {
     "ename": "Exception",
     "evalue": "No negative values supposed to be printed",
     "output_type": "error",
     "traceback": [
      "\u001b[1;31m---------------------------------------------------------------------------\u001b[0m",
      "\u001b[1;31mException\u001b[0m                                 Traceback (most recent call last)",
      "\u001b[1;32m~\\AppData\\Local\\Temp\\ipykernel_10904\\2802670803.py\u001b[0m in \u001b[0;36m<module>\u001b[1;34m\u001b[0m\n\u001b[0;32m      1\u001b[0m \u001b[0mx\u001b[0m \u001b[1;33m=\u001b[0m \u001b[1;33m-\u001b[0m\u001b[1;36m1\u001b[0m\u001b[1;33m\u001b[0m\u001b[1;33m\u001b[0m\u001b[0m\n\u001b[0;32m      2\u001b[0m \u001b[1;32mif\u001b[0m \u001b[0mx\u001b[0m\u001b[1;33m<\u001b[0m\u001b[1;36m0\u001b[0m\u001b[1;33m:\u001b[0m\u001b[1;33m\u001b[0m\u001b[1;33m\u001b[0m\u001b[0m\n\u001b[1;32m----> 3\u001b[1;33m     \u001b[1;32mraise\u001b[0m \u001b[0mException\u001b[0m\u001b[1;33m(\u001b[0m\u001b[1;34m\"No negative values supposed to be printed\"\u001b[0m\u001b[1;33m)\u001b[0m\u001b[1;33m\u001b[0m\u001b[1;33m\u001b[0m\u001b[0m\n\u001b[0m",
      "\u001b[1;31mException\u001b[0m: No negative values supposed to be printed"
     ]
    }
   ],
   "source": [
    "x = -1\n",
    "if x<0:\n",
    "    raise Exception(\"No negative values supposed to be printed\")"
   ]
  },
  {
   "cell_type": "code",
   "execution_count": 36,
   "id": "c267b763",
   "metadata": {},
   "outputs": [],
   "source": [
    "#PYTHON INPUT HANDLING"
   ]
  },
  {
   "cell_type": "code",
   "execution_count": 37,
   "id": "86bf28a7",
   "metadata": {},
   "outputs": [
    {
     "name": "stdout",
     "output_type": "stream",
     "text": [
      " Enter num13\n",
      " Enter num24\n",
      "Tell the operation you want to be done on the numbers_\n"
     ]
    },
    {
     "data": {
      "text/plain": [
       "7"
      ]
     },
     "execution_count": 37,
     "metadata": {},
     "output_type": "execute_result"
    }
   ],
   "source": [
    "num1 = input(\" Enter num1\")\n",
    "num2 = input(\" Enter num2\")\n",
    "op = input(\"Tell the operation you want to be done on the numbers\")\n",
    "def calculate (num1, num2):\n",
    "    return int(num1) + int(num2)\n",
    "calculate(num1, num2)"
   ]
  },
  {
   "cell_type": "code",
   "execution_count": 38,
   "id": "6b66791c",
   "metadata": {},
   "outputs": [],
   "source": [
    "# PYTHON FILE HANDLING"
   ]
  },
  {
   "cell_type": "code",
   "execution_count": 39,
   "id": "7665eb71",
   "metadata": {},
   "outputs": [
    {
     "name": "stdout",
     "output_type": "stream",
     "text": [
      "Rank,CCA3,Country/Territory,Capital,Continent,2022 Population,2020 Population,2015 Population,2010 Population,2000 Population,1990 Population,1980 Population,1970 Population,Area (kmÂ²),Density (per kmÂ²),Growth Rate,World Population Percentage\n",
      "36,AFG,Afghanistan,Kabul,Asia,41128771,38972230,33753499,28189672,19542982,10694796,12486631,10752971,652230,63.0587,1.0257,0.52\n",
      "138,ALB,Albania,Tirana,Europe,2842321,2866849,2882481,2913399,3182021,3295066,2941651,2324731,28748,98.8702,0.9957,0.04\n",
      "34,DZA\n"
     ]
    }
   ],
   "source": [
    "x = open('world_population.csv', 'r')\n",
    "print(x.read(500))"
   ]
  },
  {
   "cell_type": "code",
   "execution_count": 40,
   "id": "79ec0f83",
   "metadata": {},
   "outputs": [
    {
     "name": "stdout",
     "output_type": "stream",
     "text": [
      ",Algeria,Algiers,Africa,44903225,43451666,39543154,35856344,30774621,25518074,18739378,13795915,2381741,18.8531,1.0164,0.56\n",
      "\n"
     ]
    }
   ],
   "source": [
    "print(x.readline())"
   ]
  },
  {
   "cell_type": "code",
   "execution_count": 41,
   "id": "930465fd",
   "metadata": {},
   "outputs": [
    {
     "name": "stdout",
     "output_type": "stream",
     "text": [
      "213,ASM,American Samoa,Pago Pago,Oceania,44273,46189,51368,54849,58230,47818,32886,27075,199,222.4774,0.9831,0\n",
      "\n",
      "203,AND,Andorra,Andorra la Vella,Europe,79824,77700,71746,71519,66097,53569,35611,19860,468,170.5641,1.01,0\n",
      "\n",
      "42,AGO,Angola,Luanda,Africa,35588987,33428485,28127721,23364185,16394062,11828638,8330047,6029700,1246700,28.5466,1.0315,0.45\n",
      "\n",
      "224,AIA,Anguilla,The Valley,North America,15857,15585,14525,13172,11047,8316,6560,6283,91,174.2527,1.0066,0\n",
      "\n",
      "201,ATG,Antigua and Barbuda,Saint Johnâ€™s,North America,93763,92664,89941,85695,75055,63328,64888,64516,442,212.1335,1.0058,0\n",
      "\n",
      "33,ARG,Argentina,Buenos Aires,South America,45510318,45036032,43257065,41100123,37070774,32637657,28024803,23842803,2780400,16.3683,1.0052,0.57\n",
      "\n",
      "140,ARM,Armenia,Yerevan,Asia,2780469,2805608,2878595,2946293,3168523,3556539,3135123,2534377,29743,93.4831,0.9962,0.03\n",
      "\n",
      "198,ABW,Aruba,Oranjestad,North America,106445,106585,104257,100341,89101,65712,62267,59106,180,591.3611,0.9991,0\n",
      "\n",
      "55,AUS,Australia,Canberra,Oceania,26177413,25670051,23820236,22019168,19017963,17048003,14706322,12595034,7692024,3.4032,1.0099,0.33\n",
      "\n",
      "99,AUT,Austria,Vienna,Europe,8939617,8907777,8642421,8362829,8010428,7678729,7547561,7465301,83871,106.5877,1.002,0.11\n",
      "\n",
      "91,AZE,Azerbaijan,Baku,Asia,10358074,10284951,9863480,9237202,8190337,7427836,6383060,5425317,86600,119.6082,1.0044,0.13\n",
      "\n",
      "176,BHS,Bahamas,Nassau,North America,409984,406471,392697,373272,325014,270679,223752,179129,13943,29.4043,1.0051,0.01\n",
      "\n",
      "154,BHR,Bahrain,Manama,Asia,1472233,1477469,1362142,1213645,711442,517418,362595,222555,765,1924.4876,1.0061,0.02\n",
      "\n",
      "8,BGD,Bangladesh,Dhaka,Asia,171186372,167420951,157830000,148391139,129193327,107147651,83929765,67541860,147570,1160.035,1.0108,2.15\n",
      "\n",
      "186,BRB,Barbados,Bridgetown,North America,281635,280693,278083,274711,264657,258868,253575,241397,430,654.9651,1.0015,0\n",
      "\n",
      "96,BLR,Belarus,Minsk,Europe,9534954,9633740,9700609,9731427,10256483,10428525,9817257,9170786,207600,45.9295,0.9955,0.12\n",
      "\n",
      "81,BEL,Belgium,Brussels,Europe,11655930,11561717,11248303,10877947,10264343,9959560,9828986,9629376,30528,381.8111,1.0038,0.15\n",
      "\n",
      "177,BLZ,Belize,Belmopan,North America,405272,394921,359871,322106,240406,182589,145133,120905,22966,17.6466,1.0131,0.01\n",
      "\n",
      "77,BEN,Benin,Porto-Novo,Africa,13352864,12643123,10932783,9445710,6998023,5133419,3833939,3023443,112622,118.5635,1.0274,0.17\n",
      "\n",
      "206,BMU,Bermuda,Hamilton,North America,64184,64031,63144,63447,61371,57470,53565,52019,54,1188.5926,1,0\n",
      "\n",
      "165,BTN,Bhutan,Thimphu,Asia,782455,772506,743274,705516,587207,558442,415257,298894,38394,20.3796,1.0064,0.01\n",
      "\n",
      "80,BOL,Bolivia,Sucre,South America,12224110,11936162,11090085,10223270,8592656,7096194,5736088,4585693,1098581,11.1272,1.012,0.15\n",
      "\n",
      "137,BIH,Bosnia and Herzegovina,Sarajevo,Europe,3233526,3318407,3524324,3811088,4179350,4494310,4199820,3815561,51209,63.1437,0.9886,0.04\n",
      "\n",
      "144,BWA,Botswana,Gaborone,Africa,2630296,2546402,2305171,2091664,1726985,1341474,938578,592244,582000,4.5194,1.0162,0.03\n",
      "\n",
      "7,BRA,Brazil,Brasilia,South America,215313498,213196304,205188205,196353492,175873720,150706446,122288383,96369875,8515767,25.2841,1.0046,2.7\n",
      "\n",
      "221,VGB,British Virgin Islands,Road Town,North America,31305,30910,29366,27556,20104,15617,11109,9581,151,207.3179,1.0059,0\n",
      "\n",
      "175,BRN,Brunei,Bandar Seri Begawan,Asia,449002,441725,421437,396053,333926,261928,187921,133343,5765,77.8841,1.0081,0.01\n",
      "\n",
      "108,BGR,Bulgaria,Sofia,Europe,6781953,6979175,7309253,7592273,8097691,8767778,8980606,8582950,110879,61.1654,0.9849,0.09\n",
      "\n",
      "58,BFA,Burkina Faso,Ouagadougou,Africa,22673762,21522626,18718019,16116845,11882888,9131361,6932967,5611666,272967,83.0641,1.0259,0.28\n",
      "\n",
      "78,BDI,Burundi,Bujumbura,Africa,12889576,12220227,10727148,9126605,6307659,5483793,4312834,3497834,27834,463.0874,1.027,0.16\n",
      "\n",
      "73,KHM,Cambodia,Phnom Penh,Asia,16767842,16396860,15417523,14363532,12118841,8910808,6198959,6708525,181035,92.6221,1.0108,0.21\n",
      "\n",
      "53,CMR,Cameroon,Yaounde,Africa,27914536,26491087,23012646,19878036,15091594,11430520,8519891,6452787,475442,58.7128,1.0263,0.35\n",
      "\n",
      "39,CAN,Canada,Ottawa,North America,38454327,37888705,35732126,33963412,30683313,27657204,24511510,21434577,9984670,3.8513,1.0078,0.48\n",
      "\n",
      "171,CPV,Cape Verde,Praia,Africa,593149,582640,552166,521212,458251,364563,317234,287262,4033,147.0739,1.0089,0.01\n",
      "\n",
      "205,CYM,Cayman Islands,George Town,North America,68706,67311,60911,54074,39658,26027,17100,10533,264,260.25,1.0084,0\n",
      "\n",
      "117,CAF,Central African Republic,Bangui,Africa,5579144,5343020,4819333,4660067,3759170,2809221,2415276,2067356,622984,8.9555,1.0224,0.07\n",
      "\n",
      "69,TCD,Chad,N'Djamena,Africa,17723315,16644701,14140274,11894727,8259137,5827069,4408230,3667394,1284000,13.8032,1.0316,0.22\n",
      "\n",
      "65,CHL,Chile,Santiago,South America,19603733,19300315,17870124,17004162,15351799,13342868,11469828,9820481,756102,25.9274,1.0057,0.25\n",
      "\n",
      "1,CHN,China,Beijing,Asia,1425887337,1424929781,1393715448,1348191368,1264099069,1153704252,982372466,822534450,9706961,146.8933,1,17.88\n",
      "\n",
      "28,COL,Colombia,Bogota,South America,51874024,50930662,47119728,44816108,39215135,32601393,26176195,20905254,1141748,45.4339,1.0069,0.65\n",
      "\n",
      "163,COM,Comoros,Moroni,Africa,836774,806166,730216,656024,536758,431119,328328,242351,1862,449.3953,1.0184,0.01\n",
      "\n",
      "223,COK,Cook Islands,Avarua,Oceania,17011,17029,17695,17212,15897,17123,17651,20470,236,72.0805,1.0005,0\n",
      "\n",
      "124,CRI,Costa Rica,San JosÃ©,North America,5180829,5123105,4895242,4622252,3979193,3158253,2414303,1855697,51100,101.3861,1.0052,0.06\n",
      "\n",
      "130,HRV,Croatia,Zagreb,Europe,4030358,4096868,4254815,4368682,4548434,4873707,4680144,4492638,56594,71.2153,0.9927,0.05\n",
      "\n",
      "85,CUB,Cuba,Havana,North America,11212191,11300698,11339894,11290417,11105791,10626680,9809107,8869636,109884,102.0366,0.9961,0.14\n",
      "\n",
      "189,CUW,Curacao,Willemstad,North America,191163,189288,169572,159380,141424,155446,156851,150385,444,430.5473,1.0043,0\n",
      "\n",
      "158,CYP,Cyprus,Nicosia,Europe,1251488,1237537,1187280,1129686,948237,788500,679327,640804,9251,135.2814,1.0059,0.02\n",
      "\n",
      "88,CZE,Czech Republic,Prague,Europe,10493986,10530953,10523798,10464749,10234710,10301192,10270060,9795744,78865,133.0627,0.9984,0.13\n",
      "\n",
      "115,DNK,Denmark,Copenhagen,Europe,5882261,5825641,5677796,5550849,5340655,5144623,5125392,4922963,43094,136.4984,1.0048,0.07\n",
      "\n",
      "160,DJI,Djibouti,Djibouti,Africa,1120849,1090156,1006259,919199,742033,577173,324121,144379,23200,48.3125,1.0138,0.01\n",
      "\n",
      "204,DMA,Dominica,Roseau,North America,72737,71995,70007,68755,68346,69481,72978,68895,751,96.8535,1.0045,0\n",
      "\n",
      "84,DOM,Dominican Republic,Santo Domingo,North America,11228821,10999664,10405832,9775755,8540791,7129004,5755800,4475871,48671,230.7087,1.01,0.14\n",
      "\n",
      "15,COD,DR Congo,Kinshasa,Africa,99010212,92853164,78656904,66391257,48616317,35987541,26708686,20151733,2344858,42.2244,1.0325,1.24\n",
      "\n",
      "67,ECU,Ecuador,Quito,South America,18001000,17588595,16195902,14989585,12626507,10449837,8135845,6172215,276841,65.0229,1.0114,0.23\n",
      "\n",
      "14,EGY,Egypt,Cairo,Africa,110990103,107465134,97723799,87252413,71371371,57214630,43748556,34781986,1002450,110.7188,1.0158,1.39\n",
      "\n",
      "112,SLV,El Salvador,San Salvador,North America,6336392,6292731,6231066,6114034,5958482,5367179,4508992,3619090,21041,301.145,1.0035,0.08\n",
      "\n",
      "152,GNQ,Equatorial Guinea,Malabo,Africa,1674908,1596049,1346973,1094524,684977,465549,282509,316955,28051,59.7094,1.0247,0.02\n",
      "\n",
      "132,ERI,Eritrea,Asmara,Africa,3684032,3555868,3340006,3147727,2392880,2149960,1657982,1272748,117600,31.3268,1.0176,0.05\n",
      "\n",
      "156,EST,Estonia,Tallinn,Europe,1326062,1329444,1314657,1331535,1396877,1570674,1476983,1361999,45227,29.3201,0.998,0.02\n",
      "\n",
      "159,SWZ,Eswatini,Mbabane,Africa,1201670,1180655,1133936,1099920,1030496,854011,598564,442865,17364,69.2047,1.0079,0.02\n",
      "\n",
      "12,ETH,Ethiopia,Addis Ababa,Africa,123379924,117190911,102471895,89237791,67031867,47878073,34945469,28308246,1104300,111.7268,1.0257,1.55\n",
      "\n",
      "231,FLK,Falkland Islands,Stanley,South America,3780,3747,3408,3187,3080,2332,2240,2274,12173,0.3105,1.0043,0\n",
      "\n",
      "209,FRO,Faroe Islands,TÃ³rshavn,Europe,53090,52415,48816,48410,45660,47479,43054,38416,1393,38.112,1.0038,0\n",
      "\n",
      "162,FJI,Fiji,Suva,Oceania,929766,920422,917200,905169,832509,780430,644582,527634,18272,50.8847,1.0056,0.01\n",
      "\n",
      "118,FIN,Finland,Helsinki,Europe,5540745,5529468,5479461,5363271,5176209,4986545,4779418,4606621,338424,16.3722,1.0009,0.07\n",
      "\n",
      "23,FRA,France,Paris,Europe,64626628,64480053,63809769,62444567,58665453,56412897,53713830,50523586,551695,117.1419,1.0015,0.81\n",
      "\n",
      "184,GUF,French Guiana,Cayenne,South America,304557,290969,257026,228453,164351,113931,66825,46484,83534,3.6459,1.0239,0\n",
      "\n",
      "183,PYF,French Polynesia,Papeete,Oceania,306279,301920,291787,283788,250927,211089,163591,117891,4167,73.5011,1.0074,0\n",
      "\n",
      "146,GAB,Gabon,Libreville,Africa,2388992,2292573,2028517,1711105,1272935,983028,749078,597192,267668,8.9252,1.0204,0.03\n",
      "\n",
      "142,GMB,Gambia,Banjul,Africa,2705992,2573995,2253133,1937275,1437539,1040616,718586,528731,10689,253.1567,1.025,0.03\n",
      "\n",
      "131,GEO,Georgia,Tbilisi,Asia,3744385,3765912,3771132,3836831,4265172,5391636,5145843,4800426,69700,53.7214,0.9964,0.05\n",
      "\n",
      "19,DEU,Germany,Berlin,Europe,83369843,83328988,82073226,81325090,81551677,79370196,77786703,78294583,357114,233.4544,0.9995,1.05\n",
      "\n",
      "47,GHA,Ghana,Accra,Africa,33475870,32180401,28870939,25574719,19665502,15446982,11865246,8861895,238533,140.3406,1.0196,0.42\n",
      "\n",
      "219,GIB,Gibraltar,Gibraltar,Europe,32649,32709,32520,31262,27741,27317,28734,26685,6,5441.5,0.9994,0\n",
      "\n",
      "90,GRC,Greece,Athens,Europe,10384971,10512232,10806641,11033783,11038109,10302255,9307148,8544873,131990,78.68,0.9942,0.13\n",
      "\n",
      "208,GRL,Greenland,Nuuk,North America,56466,56026,55895,56351,56184,55599,50106,45434,2166086,0.0261,1.004,0\n",
      "\n",
      "193,GRD,Grenada,Saint George's,North America,125438,123663,118980,114039,107432,99047,94838,98794,344,364.6453,1.0066,0\n",
      "\n",
      "178,GLP,Guadeloupe,Basse-Terre,North America,395752,395642,399089,403072,424067,391951,334234,318310,1628,243.0909,0.9992,0\n",
      "\n",
      "191,GUM,Guam,HagÃ¥tÃ±a,Oceania,171774,169231,167978,164905,160188,138263,110286,88300,549,312.8852,1.0073,0\n",
      "\n",
      "68,GTM,Guatemala,Guatemala City,North America,17843908,17362718,16001107,14543121,11735894,9084780,6987767,5453208,108889,163.8725,1.0134,0.22\n",
      "\n",
      "207,GGY,Guernsey,Saint Peter Port,Europe,63301,62794,61629,60782,59114,57727,52860,52656,78,811.5513,1.0037,0\n",
      "\n",
      "75,GIN,Guinea,Conakry,Africa,13859341,13205153,11625998,10270728,8336967,6354145,4972609,4222374,245857,56.3716,1.0242,0.17\n",
      "\n",
      "149,GNB,Guinea-Bissau,Bissau,Africa,2105566,2015828,1788919,1567220,1230849,973551,831462,591663,36125,58.2856,1.0218,0.03\n",
      "\n",
      "164,GUY,Guyana,Georgetown,South America,808726,797202,755031,747932,759051,747116,778176,705261,214969,3.7621,1.0052,0.01\n",
      "\n",
      "82,HTI,Haiti,Port-au-Prince,North America,11584996,11306801,10563757,9842880,8360225,6925331,5646676,4680812,27750,417.4773,1.012,0.15\n",
      "\n",
      "89,HND,Honduras,Tegucigalpa,North America,10432860,10121763,9294505,8450933,6656725,5053234,3777990,2782753,112492,92.7431,1.015,0.13\n",
      "\n",
      "104,HKG,Hong Kong,Hong Kong,Asia,7488865,7500958,7399838,7132438,6731195,5838574,4978544,3955072,1104,6783.3922,0.9992,0.09\n",
      "\n",
      "94,HUN,Hungary,Budapest,Europe,9967308,9750573,9844246,9986825,10202055,10375989,10698679,10315366,93028,107.1431,1.0265,0.12\n",
      "\n",
      "179,ISL,Iceland,ReykjavÃ­k,Europe,372899,366669,331060,318333,281462,255019,228263,204468,103000,3.6204,1.0069,0\n",
      "\n",
      "2,IND,India,New Delhi,Asia,1417173173,1396387127,1322866505,1240613620,1059633675,870452165,696828385,557501301,3287590,431.0675,1.0068,17.77\n",
      "\n",
      "4,IDN,Indonesia,Jakarta,Asia,275501339,271857970,259091970,244016173,214072421,182159874,148177096,115228394,1904569,144.6529,1.0064,3.45\n",
      "\n",
      "17,IRN,Iran,Tehran,Asia,88550570,87290193,81790841,75373855,65544383,55793629,38520664,28449705,1648195,53.7258,1.0071,1.11\n",
      "\n",
      "35,IRQ,Iraq,Baghdad,Asia,44496122,42556984,37757813,31264875,24628858,17658381,13653369,9811347,438317,101.5158,1.0221,0.56\n",
      "\n",
      "125,IRL,Ireland,Dublin,Europe,5023109,4946119,4665760,4524585,3768950,3485374,3391387,2937637,70273,71.4799,1.0073,0.06\n",
      "\n",
      "202,IMN,Isle of Man,Douglas,Europe,84519,84046,83593,83828,75562,68865,64022,55298,572,147.7605,1.003,0\n",
      "\n",
      "98,ISR,Israel,Jerusalem,Asia,9038309,8757489,8007778,7328445,6116958,4803254,3744608,2907307,20770,435.1617,1.0155,0.11\n",
      "\n",
      "25,ITA,Italy,Rome,Europe,59037474,59500579,60232906,59822450,56966397,56756561,56329482,53324036,301336,195.9191,0.9966,0.74\n",
      "\n",
      "52,CIV,Ivory Coast,Yamoussoukro,Africa,28160542,26811790,23596741,21120042,16799670,11910540,8303809,5477086,322463,87.3295,1.0248,0.35\n",
      "\n",
      "139,JAM,Jamaica,Kingston,North America,2827377,2820436,2794445,2733896,2612205,2392030,2135546,1859091,10991,257.2447,0.9999,0.04\n",
      "\n",
      "11,JPN,Japan,Tokyo,Asia,123951692,125244761,127250933,128105431,126803861,123686321,117624196,105416839,377930,327.9753,0.9947,1.55\n",
      "\n",
      "195,JEY,Jersey,Saint Helier,Europe,110778,108319,100561,96151,86192,82874,75124,68347,116,954.9828,1.0106,0\n",
      "\n",
      "83,JOR,Jordan,Amman,Asia,11285869,10928721,9494246,6931258,5056174,3480587,2216903,1557374,89342,126.3221,1.0123,0.14\n",
      "\n",
      "66,KAZ,Kazakhstan,Nursultan,Asia,19397998,18979243,17835909,16627837,15236253,16866563,14172710,12265305,2724900,7.1188,1.0105,0.24\n",
      "\n",
      "27,KEN,Kenya,Nairobi,Africa,54027487,51985780,46851488,41517895,30851606,23162269,16187124,11473087,580367,93.0919,1.0193,0.68\n",
      "\n",
      "192,KIR,Kiribati,Tarawa,Oceania,131232,126463,116707,107995,88826,75124,60813,57437,811,161.815,1.0183,0\n",
      "\n",
      "129,KWT,Kuwait,Kuwait City,Asia,4268873,4360444,3908743,2943356,1934901,1674938,1493870,802786,17818,239.5821,1.0044,0.05\n",
      "\n",
      "110,KGZ,Kyrgyzstan,Bishkek,Asia,6630623,6424874,5914980,5483774,4935182,4394734,3691209,3016384,199951,33.1612,1.0158,0.08\n",
      "\n",
      "103,LAO,Laos,Vientiane,Asia,7529475,7319399,6787419,6323418,5430853,4314443,3297519,2675283,236800,31.7968,1.0141,0.09\n",
      "\n",
      "151,LVA,Latvia,Riga,Europe,1850651,1897052,1991955,2101530,2392530,2689391,2572037,2397414,64559,28.666,0.9876,0.02\n",
      "\n",
      "119,LBN,Lebanon,Beirut,Asia,5489739,5662923,6398940,4995800,4320642,3593700,2963702,2381791,10452,525.2334,0.9816,0.07\n",
      "\n",
      "147,LSO,Lesotho,Maseru,Africa,2305825,2254100,2118521,2022747,1998630,1798997,1407672,1023481,30355,75.962,1.0107,0.03\n",
      "\n",
      "121,LBR,Liberia,Monrovia,Africa,5302681,5087584,4612329,4019956,2895224,2209731,1932169,1463563,111369,47.6136,1.021,0.07\n",
      "\n",
      "107,LBY,Libya,Tripoli,Africa,6812341,6653942,6192235,6491988,5154790,4236983,2962720,1909177,1759540,3.8717,1.0114,0.09\n",
      "\n",
      "216,LIE,Liechtenstein,Vaduz,Europe,39327,38756,37355,35926,33026,28765,25003,21089,160,245.7937,1.0074,0\n",
      "\n",
      "141,LTU,Lithuania,Vilnius,Europe,2750055,2820267,2963765,3139019,3599637,3785847,3521206,3210147,65300,42.1142,0.9869,0.03\n",
      "\n",
      "168,LUX,Luxembourg,Luxembourg,Europe,647599,630399,569408,507070,435628,381267,363741,339342,2586,250.425,1.0129,0.01\n",
      "\n",
      "167,MAC,Macau,Concelho de Macau,Asia,695168,676283,615239,557297,431896,350227,245332,247284,30,23172.2667,1.0125,0.01\n",
      "\n",
      "50,MDG,Madagascar,Antananarivo,Africa,29611714,28225177,24850912,21731053,16216431,11882762,8948162,6639751,587041,50.4423,1.0241,0.37\n",
      "\n",
      "62,MWI,Malawi,Lilongwe,Africa,20405317,19377061,16938942,14718422,11229387,9539665,6267369,4625141,118484,172.22,1.0259,0.26\n",
      "\n",
      "45,MYS,Malaysia,Kuala Lumpur,Asia,33938221,33199993,31068833,28717731,22945150,17517054,13215707,10306508,330803,102.5934,1.0109,0.43\n",
      "\n",
      "174,MDV,Maldives,MalÃ©,Asia,523787,514438,435582,361575,282507,224957,164887,123243,300,1745.9567,1.0045,0.01\n",
      "\n",
      "59,MLI,Mali,Bamako,Africa,22593590,21224040,18112907,15529181,11239101,8945026,7372581,6153587,1240192,18.2178,1.0314,0.28\n",
      "\n",
      "173,MLT,Malta,Valletta,Europe,533286,515357,456579,418755,399212,365392,333587,315414,316,1687.6139,1.0124,0.01\n",
      "\n",
      "215,MHL,Marshall Islands,Majuro,Oceania,41569,43413,49410,53416,54224,46047,31988,23969,181,229.663,0.9886,0\n",
      "\n",
      "180,MTQ,Martinique,Fort-de-France,North America,367507,370391,383515,392181,432543,374271,333786,326428,1128,325.8041,0.9965,0\n",
      "\n",
      "126,MRT,Mauritania,Nouakchott,Africa,4736139,4498604,3946220,3419461,2695003,2006027,1506694,1122198,1030700,4.5951,1.0263,0.06\n",
      "\n",
      "157,MUS,Mauritius,Port Louis,Africa,1299469,1297828,1293153,1283330,1215930,1090290,954865,830115,2040,636.9946,1.0004,0.02\n",
      "\n",
      "182,MYT,Mayotte,Mamoudzou,Africa,326101,305587,249545,211786,159215,92659,52233,35383,374,871.9278,1.0319,0\n",
      "\n",
      "10,MEX,Mexico,Mexico City,North America,127504125,125998302,120149897,112532401,97873442,81720428,67705186,50289306,1964375,64.9082,1.0063,1.6\n",
      "\n",
      "194,FSM,Micronesia,Palikir,Oceania,114164,112106,109462,107588,111709,98603,76299,58989,702,162.6268,1.0091,0\n",
      "\n",
      "135,MDA,Moldova,Chisinau,Europe,3272996,3084847,3277388,3678186,4251573,4480199,4103240,3711140,33846,96.7026,1.0691,0.04\n",
      "\n",
      "217,MCO,Monaco,Monaco,Europe,36469,36922,36760,33178,32465,30329,27076,24270,2,18234.5,0.9941,0\n",
      "\n",
      "134,MNG,Mongolia,Ulaanbaatar,Asia,3398366,3294335,2964749,2702520,2450979,2161433,1697780,1293880,1564110,2.1727,1.0151,0.04\n",
      "\n",
      "169,MNE,Montenegro,Podgorica,Europe,627082,629048,633966,631044,633324,621442,589324,530268,13812,45.4012,0.9988,0.01\n",
      "\n",
      "230,MSR,Montserrat,Brades,North America,4390,4500,5059,4938,5138,10805,11452,11402,102,43.0392,0.9939,0\n",
      "\n",
      "40,MAR,Morocco,Rabat,Africa,37457971,36688772,34680458,32464865,28554415,24570814,19678444,15274351,446550,83.883,1.0103,0.47\n",
      "\n",
      "48,MOZ,Mozambique,Maputo,Africa,32969517,31178239,26843246,23073723,17768505,13303459,11413587,8411676,801590,41.1302,1.0278,0.41\n",
      "\n",
      "26,MMR,Myanmar,Nay Pyi Taw,Asia,54179306,53423198,51483949,49390988,45538332,40099553,33465781,27284112,676578,80.0784,1.0071,0.68\n",
      "\n",
      "145,NAM,Namibia,Windhoek,Africa,2567012,2489098,2282704,2099271,1819141,1369011,975994,754467,825615,3.1092,1.0146,0.03\n",
      "\n",
      "225,NRU,Nauru,Yaren,Oceania,12668,12315,11185,10241,10377,9598,7635,6663,21,603.2381,1.0125,0\n",
      "\n",
      "49,NPL,Nepal,Kathmandu,Asia,30547580,29348627,27610325,27161567,24559500,19616530,15600442,12501285,147181,207.5511,1.0171,0.38\n",
      "\n",
      "71,NLD,Netherlands,Amsterdam,Europe,17564014,17434557,17041107,16617116,15899135,14944548,14130387,13037686,41850,419.6897,1.0036,0.22\n",
      "\n",
      "185,NCL,New Caledonia,NoumÃ©a,Oceania,289950,286403,283032,261426,221537,177264,148599,110982,18575,15.6097,1.0075,0\n",
      "\n",
      "123,NZL,New Zealand,Wellington,Oceania,5185288,5061133,4590590,4346338,3855266,3397389,3147168,2824061,270467,19.1716,1.0108,0.07\n",
      "\n",
      "106,NIC,Nicaragua,Managua,North America,6948392,6755895,6298598,5855734,5123222,4227820,3303309,2444767,130373,53.2962,1.0143,0.09\n",
      "\n",
      "54,NER,Niger,Niamey,Africa,26207977,24333639,20128124,16647543,11622665,8370647,6173177,4669708,1267000,20.6851,1.0378,0.33\n",
      "\n",
      "6,NGA,Nigeria,Abuja,Africa,218541212,208327405,183995785,160952853,122851984,95214257,72951439,55569264,923768,236.5759,1.0241,2.74\n",
      "\n",
      "232,NIU,Niue,Alofi,Oceania,1934,1942,1847,1812,2074,2533,3637,5185,260,7.4385,0.9985,0\n",
      "\n",
      "56,PRK,North Korea,Pyongyang,Asia,26069416,25867467,25258015,24686435,23367059,20799523,17973650,14996879,120538,216.2755,1.0038,0.33\n",
      "\n",
      "150,MKD,North Macedonia,Skopje,Europe,2093599,2111072,2107962,2093828,2037936,2044174,1907023,1656783,25713,81.4218,0.9954,0.03\n",
      "\n",
      "210,NFK,Northern Mariana Islands,Saipan,Oceania,49551,49587,51514,54087,80338,48002,17613,10143,464,106.7909,1.0014,0\n",
      "\n",
      "120,NOR,Norway,Oslo,Europe,5434319,5379839,5190356,4889741,4491202,4241636,4085776,3875546,323802,16.7828,1.0058,0.07\n",
      "\n",
      "127,OMN,Oman,Muscat,Asia,4576298,4543399,4191776,2881914,2344253,1804524,1017462,670693,309500,14.7861,1.0123,0.06\n",
      "\n",
      "5,PAK,Pakistan,Islamabad,Asia,235824862,227196741,210969298,194454498,154369924,115414069,80624057,59290872,881912,267.4018,1.0191,2.96\n",
      "\n",
      "222,PLW,Palau,Ngerulmud,Oceania,18055,17972,17794,18540,19726,15293,12252,11366,459,39.3355,1.0017,0\n",
      "\n",
      "122,PSE,Palestine,Ramallah,Asia,5250072,5019401,4484614,3992278,3139954,2124609,1453620,1118241,6220,844.063,1.0227,0.07\n",
      "\n",
      "128,PAN,Panama,Panama City,North America,4408581,4294396,3957099,3623617,3001731,2449968,1956987,1516188,75417,58.4561,1.0132,0.06\n",
      "\n",
      "93,PNG,Papua New Guinea,Port Moresby,Oceania,10142619,9749640,8682174,7583269,5508297,3864972,3104788,2489059,462840,21.9139,1.0194,0.13\n",
      "\n",
      "109,PRY,Paraguay,AsunciÃ³n,South America,6780744,6618695,6177950,5768613,5123819,4059195,3078912,2408787,406752,16.6705,1.0115,0.09\n",
      "\n",
      "44,PER,Peru,Lima,South America,34049588,33304756,30711863,29229572,26654439,22109099,17492406,13562371,1285216,26.4933,1.0099,0.43\n",
      "\n",
      "13,PHL,Philippines,Manila,Asia,115559009,112190977,103031365,94636700,77958223,61558898,48419546,37435586,342353,337.5434,1.0147,1.45\n",
      "\n",
      "37,POL,Poland,Warsaw,Europe,39857145,38428366,38553146,38597353,38504431,38064255,35521429,32482943,312679,127.4698,1.0404,0.5\n",
      "\n",
      "92,PRT,Portugal,Lisbon,Europe,10270865,10298192,10365435,10588401,10300626,10007346,9785252,8683631,92090,111.5307,0.9981,0.13\n",
      "\n",
      "136,PRI,Puerto Rico,San Juan,North America,3252407,3271564,3497335,3717922,3827108,3543776,3214568,2737619,8870,366.675,0.9989,0.04\n",
      "\n",
      "143,QAT,Qatar,Doha,Asia,2695122,2760385,2414573,1713504,645937,441675,277450,118007,11586,232.6189,1.0026,0.03\n",
      "\n",
      "114,COG,Republic of the Congo,Brazzaville,Africa,5970424,5702174,5064386,4437884,3134030,2385435,1829256,1396989,342000,17.4574,1.0231,0.07\n",
      "\n",
      "161,REU,Reunion,Saint-Denis,Africa,974052,957822,922495,890130,785424,658992,551674,473925,2511,387.914,1.0082,0.01\n",
      "\n",
      "64,ROU,Romania,Bucharest,Europe,19659267,19442038,19906079,20335211,21919876,22836234,22125224,19922618,238391,82.4665,1.0171,0.25\n",
      "\n",
      "9,RUS,Russia,Moscow,Europe,144713314,145617329,144668389,143242599,146844839,148005704,138257420,130093010,17098242,8.4636,0.9973,1.81\n",
      "\n",
      "76,RWA,Rwanda,Kigali,Africa,13776698,13146362,11642959,10309031,8109989,7319962,5247532,3896367,26338,523.0731,1.0234,0.17\n",
      "\n",
      "228,BLM,Saint Barthelemy,Gustavia,North America,10967,10681,9643,8988,7082,5168,2983,2417,21,522.2381,1.0098,0\n",
      "\n",
      "211,KNA,Saint Kitts and Nevis,Basseterre,North America,47657,47642,47790,47403,45461,40636,43097,44968,261,182.5939,1.0011,0\n",
      "\n",
      "190,LCA,Saint Lucia,Castries,North America,179857,179237,175623,170935,159500,142301,121633,103090,616,291.9756,1.0011,0\n",
      "\n",
      "220,MAF,Saint Martin,Marigot,North America,31791,32552,35020,36458,29610,28127,7776,5802,53,599.8302,0.9951,0\n",
      "\n",
      "229,SPM,Saint Pierre and Miquelon,Saint-Pierre,North America,5862,5906,5978,6052,6274,6324,6106,5537,242,24.2231,0.9964,0\n",
      "\n",
      "199,VCT,Saint Vincent and the Grenadines,Kingstown,North America,103948,104632,106482,109308,113813,112487,107480,98459,389,267.2185,0.9963,0\n",
      "\n",
      "188,WSM,Samoa,Apia,Oceania,222382,214929,203571,194672,184008,168186,164905,142771,2842,78.2484,1.0165,0\n",
      "\n",
      "218,SMR,San Marino,San Marino,Europe,33660,34007,33570,31608,26823,23132,21346,18169,61,551.8033,0.9975,0\n",
      "\n",
      "187,STP,Sao Tome and Principe,SÃ£o TomÃ©,Africa,227380,218641,201124,182138,143714,120343,97210,77583,964,235.8714,1.0192,0\n",
      "\n",
      "41,SAU,Saudi Arabia,Riyadh,Asia,36408820,35997107,32749848,29411929,21547390,16004763,10171710,6106191,2149690,16.9368,1.0128,0.46\n",
      "\n",
      "72,SEN,Senegal,Dakar,Africa,17316449,16436119,14356181,12530121,9704287,7536001,5703869,4367744,196722,88.025,1.0261,0.22\n",
      "\n",
      "105,SRB,Serbia,Belgrade,Europe,7221365,7358005,7519496,7653748,7935022,7987529,7777010,7193533,88361,81.7257,0.9897,0.09\n",
      "\n",
      "196,SYC,Seychelles,Victoria,Africa,107118,105530,99240,92409,80060,71057,65290,54379,452,236.9867,1.0061,0\n",
      "\n",
      "102,SLE,Sierra Leone,Freetown,Africa,8605718,8233969,7314773,6436698,4584067,4325388,3367477,2778557,71740,119.957,1.022,0.11\n",
      "\n",
      "113,SGP,Singapore,Singapore,Asia,5975689,5909869,5650018,5163590,4053602,3022209,2400729,2061831,710,8416.4634,1.0058,0.07\n",
      "\n",
      "214,SXM,Sint Maarten,Philipsburg,North America,44175,43621,40205,33034,30489,27845,12243,6260,34,1299.2647,1.003,0\n",
      "\n",
      "116,SVK,Slovakia,Bratislava,Europe,5643453,5456681,5424444,5396424,5376690,5261305,4973883,4522867,49037,115.0856,1.0359,0.07\n",
      "\n",
      "148,SVN,Slovenia,Ljubljana,Europe,2119844,2117641,2080862,2057286,1984339,1986024,1901570,1741286,20273,104.5649,1.0002,0.03\n",
      "\n",
      "166,SLB,Solomon Islands,Honiara,Oceania,724273,691191,612660,540394,429978,324171,233668,172833,28896,25.0648,1.0232,0.01\n",
      "\n",
      "70,SOM,Somalia,Mogadishu,Africa,17597511,16537016,13763906,12026649,8721465,6999096,5892224,3720977,637657,27.5971,1.0312,0.22\n",
      "\n",
      "24,ZAF,South Africa,Pretoria,Africa,59893885,58801927,55876504,51784921,46813266,39877570,29463549,22368306,1221037,49.0517,1.0084,0.75\n",
      "\n",
      "29,KOR,South Korea,Seoul,Asia,51815810,51844690,50994401,48813042,46788591,44120039,38170501,32601143,100210,517.0722,0.9997,0.65\n",
      "\n",
      "86,SSD,South Sudan,Juba,Africa,10913164,10606227,11194299,9714419,6114440,4750817,4192011,3342410,619745,17.6091,1.0153,0.14\n",
      "\n",
      "30,ESP,Spain,Madrid,Europe,47558630,47363807,46431342,46572772,40741651,38889889,37491666,33792617,505992,93.9909,1.0015,0.6\n",
      "\n",
      "61,LKA,Sri Lanka,Colombo,Asia,21832143,21715079,21336697,20668557,18776371,17204094,14943645,12388769,65610,332.7563,1.0027,0.27\n",
      "\n",
      "32,SDN,Sudan,Khartoum,Africa,46874204,44440486,38171178,33739933,26298773,21090886,16673586,11305206,1886068,24.8529,1.0267,0.59\n",
      "\n",
      "170,SUR,Suriname,Paramaribo,South America,618040,607065,575475,546080,478998,412756,375112,379918,163820,3.7727,1.0082,0.01\n",
      "\n",
      "87,SWE,Sweden,Stockholm,Europe,10549347,10368969,9849349,9381729,8871043,8548406,8311763,8027702,450295,23.4276,1.0079,0.13\n",
      "\n",
      "101,CHE,Switzerland,Bern,Europe,8740472,8638613,8281732,7822435,7182059,6711693,6319113,6181227,41284,211.7157,1.0056,0.11\n",
      "\n",
      "60,SYR,Syria,Damascus,Asia,22125249,20772595,19205178,22337563,16307654,12408996,8898954,6319199,185180,119.4797,1.0376,0.28\n",
      "\n",
      "57,TWN,Taiwan,Taipei,Asia,23893394,23821464,23512136,23083083,22194731,20586174,18100281,14957870,36193,660.1662,1.0014,0.3\n",
      "\n",
      "95,TJK,Tajikistan,Dushanbe,Asia,9952787,9543207,8524063,7621779,6272998,5417860,4045965,2993019,143100,69.5513,1.0208,0.12\n",
      "\n",
      "22,TZA,Tanzania,Dodoma,Africa,65497748,61704518,52542823,45110527,34463704,26206012,19297659,13618192,945087,69.3034,1.03,0.82\n",
      "\n",
      "20,THA,Thailand,Bangkok,Asia,71697030,71475664,70294397,68270489,63066603,55228410,45737753,35791728,513120,139.7276,1.0013,0.9\n",
      "\n",
      "155,TLS,Timor-Leste,Dili,Asia,1341296,1299995,1205813,1088486,878360,758106,642224,554021,14874,90.1772,1.0154,0.02\n",
      "\n",
      "100,TGO,Togo,LomÃ©,Africa,8848699,8442580,7473229,6571855,5008035,3875947,2838110,2197383,56785,155.8281,1.0236,0.11\n",
      "\n",
      "233,TKL,Tokelau,Nukunonu,Oceania,1871,1827,1454,1367,1666,1669,1647,1714,12,155.9167,1.0119,0\n",
      "\n",
      "197,TON,Tonga,Nukuâ€˜alofa,Oceania,106858,105254,106122,107383,102603,98727,96708,86484,747,143.0495,1.0079,0\n",
      "\n",
      "153,TTO,Trinidad and Tobago,Port-of-Spain,North America,1531044,1518147,1460177,1410296,1332203,1266518,1127852,988890,5130,298.4491,1.0035,0.02\n",
      "\n",
      "79,TUN,Tunisia,Tunis,Africa,12356117,12161723,11557779,10895063,9893316,8440023,6578156,5047404,163610,75.5218,1.0076,0.15\n",
      "\n",
      "18,TUR,Turkey,Ankara,Asia,85341241,84135428,79646178,73195345,64113547,54324142,44089069,35540990,783562,108.9145,1.0067,1.07\n",
      "\n",
      "111,TKM,Turkmenistan,Ashgabat,Asia,6430770,6250438,5766431,5267970,4569132,3720278,2862903,2201432,488100,13.1751,1.014,0.08\n",
      "\n",
      "212,TCA,Turks and Caicos Islands,Cockburn Town,North America,45703,44276,36538,29726,18744,11709,7598,5665,948,48.2099,1.0131,0\n",
      "\n",
      "227,TUV,Tuvalu,Funafuti,Oceania,11312,11069,10877,10550,9638,9182,7731,5814,26,435.0769,1.0096,0\n",
      "\n",
      "31,UGA,Uganda,Kampala,Africa,47249585,44404611,37477356,32341728,24020697,17586630,13284026,10317212,241550,195.61,1.0304,0.59\n",
      "\n",
      "38,UKR,Ukraine,Kiev,Europe,39701739,43909666,44982564,45683020,48879755,51589817,49973920,47279086,603500,65.7858,0.912,0.5\n",
      "\n",
      "97,ARE,United Arab Emirates,Abu Dhabi,Asia,9441129,9287289,8916899,8481771,3275333,1900151,1014048,298084,83600,112.9322,1.0081,0.12\n",
      "\n",
      "21,GBR,United Kingdom,London,Europe,67508936,67059474,65224364,62760039,58850043,57210442,56326328,55650166,242900,277.9289,1.0034,0.85\n",
      "\n",
      "3,USA,United States,\"Washington, D.C.\",North America,338289857,335942003,324607776,311182845,282398554,248083732,223140018,200328340,9372610,36.0935,1.0038,4.24\n",
      "\n",
      "200,VIR,United States Virgin Islands,Charlotte Amalie,North America,99465,100442,102803,106142,108185,100685,96640,63446,347,286.6427,0.9937,0\n",
      "\n",
      "133,URY,Uruguay,Montevideo,South America,3422794,3429086,3402818,3352651,3292224,3117012,2953750,2790265,181034,18.9069,0.999,0.04\n",
      "\n",
      "43,UZB,Uzbekistan,Tashkent,Asia,34627652,33526656,30949417,28614227,24925554,20579100,15947129,12011361,447400,77.3975,1.016,0.43\n",
      "\n",
      "181,VUT,Vanuatu,Port-Vila,Oceania,326740,311685,276438,245453,192074,150882,118156,87019,12189,26.8061,1.0238,0\n",
      "\n",
      "234,VAT,Vatican City,Vatican City,Europe,510,520,564,596,651,700,733,752,1,510,0.998,0\n",
      "\n",
      "51,VEN,Venezuela,Caracas,South America,28301696,28490453,30529716,28715022,24427729,19750579,15210443,11355475,916445,30.882,1.0036,0.35\n",
      "\n",
      "16,VNM,Vietnam,Hanoi,Asia,98186856,96648685,92191398,87411012,79001142,66912613,52968270,41928849,331212,296.4472,1.0074,1.23\n",
      "\n",
      "226,WLF,Wallis and Futuna,Mata-Utu,Oceania,11572,11655,12182,13142,14723,13454,11315,9377,142,81.493,0.9953,0\n",
      "\n",
      "172,ESH,Western Sahara,El AaiÃºn,Africa,575986,556048,491824,413296,270375,178529,116775,76371,266000,2.1654,1.0184,0.01\n",
      "\n",
      "46,YEM,Yemen,Sanaa,Asia,33696614,32284046,28516545,24743946,18628700,13375121,9204938,6843607,527968,63.8232,1.0217,0.42\n",
      "\n",
      "63,ZMB,Zambia,Lusaka,Africa,20017675,18927715,16248230,13792086,9891136,7686401,5720438,4281671,752612,26.5976,1.028,0.25\n",
      "\n",
      "74,ZWE,Zimbabwe,Harare,Africa,16320537,15669666,14154937,12839771,11834676,10113893,7049926,5202918,390757,41.7665,1.0204,0.2\n"
     ]
    }
   ],
   "source": [
    "for i in x:\n",
    "    print(i)"
   ]
  },
  {
   "cell_type": "code",
   "execution_count": 42,
   "id": "b315601b",
   "metadata": {},
   "outputs": [
    {
     "ename": "NotADirectoryError",
     "evalue": "[WinError 267] The directory name is invalid: 'world_population.csv'",
     "output_type": "error",
     "traceback": [
      "\u001b[1;31m---------------------------------------------------------------------------\u001b[0m",
      "\u001b[1;31mNotADirectoryError\u001b[0m                        Traceback (most recent call last)",
      "\u001b[1;32m~\\AppData\\Local\\Temp\\ipykernel_10904\\3988888863.py\u001b[0m in \u001b[0;36m<module>\u001b[1;34m\u001b[0m\n\u001b[0;32m      2\u001b[0m \u001b[1;32mimport\u001b[0m \u001b[0mos\u001b[0m\u001b[1;33m\u001b[0m\u001b[1;33m\u001b[0m\u001b[0m\n\u001b[0;32m      3\u001b[0m \u001b[1;32mif\u001b[0m \u001b[0mos\u001b[0m\u001b[1;33m.\u001b[0m\u001b[0mpath\u001b[0m\u001b[1;33m.\u001b[0m\u001b[0mexists\u001b[0m\u001b[1;33m(\u001b[0m\u001b[1;34m'world_population.csv'\u001b[0m\u001b[1;33m)\u001b[0m\u001b[1;33m:\u001b[0m\u001b[1;33m\u001b[0m\u001b[1;33m\u001b[0m\u001b[0m\n\u001b[1;32m----> 4\u001b[1;33m     \u001b[0mos\u001b[0m\u001b[1;33m.\u001b[0m\u001b[0mrmdir\u001b[0m\u001b[1;33m(\u001b[0m\u001b[1;34m'world_population.csv'\u001b[0m\u001b[1;33m)\u001b[0m\u001b[1;33m\u001b[0m\u001b[1;33m\u001b[0m\u001b[0m\n\u001b[0m\u001b[0;32m      5\u001b[0m \u001b[1;32melse\u001b[0m\u001b[1;33m:\u001b[0m\u001b[1;33m\u001b[0m\u001b[1;33m\u001b[0m\u001b[0m\n\u001b[0;32m      6\u001b[0m     \u001b[0mprint\u001b[0m\u001b[1;33m(\u001b[0m\u001b[1;34m'File isn\\'t available'\u001b[0m\u001b[1;33m)\u001b[0m\u001b[1;33m\u001b[0m\u001b[1;33m\u001b[0m\u001b[0m\n",
      "\u001b[1;31mNotADirectoryError\u001b[0m: [WinError 267] The directory name is invalid: 'world_population.csv'"
     ]
    }
   ],
   "source": [
    "# to remove a file\n",
    "import os\n",
    "if os.path.exists('world_population.csv'):\n",
    "    os.rmdir('world_population.csv')\n",
    "else:\n",
    "    print('File isn\\'t available')\n",
    "\n",
    "    \n",
    "# to remove a folder \n",
    "os.rmdir('folder name')"
   ]
  },
  {
   "cell_type": "code",
   "execution_count": 43,
   "id": "f81d9671",
   "metadata": {},
   "outputs": [],
   "source": [
    "x.close()"
   ]
  },
  {
   "cell_type": "code",
   "execution_count": 44,
   "id": "088a86ed",
   "metadata": {},
   "outputs": [],
   "source": [
    "#MACHINE LEARNING - "
   ]
  },
  {
   "cell_type": "code",
   "execution_count": 45,
   "id": "7c0cdbb6",
   "metadata": {},
   "outputs": [],
   "source": [
    "#MEAN - MEDIAN - MODE"
   ]
  },
  {
   "cell_type": "code",
   "execution_count": 46,
   "id": "0472d48f",
   "metadata": {},
   "outputs": [
    {
     "name": "stdout",
     "output_type": "stream",
     "text": [
      "ModeResult(mode=array([1]), count=array([1]))\n"
     ]
    },
    {
     "name": "stderr",
     "output_type": "stream",
     "text": [
      "C:\\Users\\HP 840 G4\\AppData\\Local\\Temp\\ipykernel_10904\\3836226773.py:3: FutureWarning: Unlike other reduction functions (e.g. `skew`, `kurtosis`), the default behavior of `mode` typically preserves the axis it acts along. In SciPy 1.11.0, this behavior will change: the default value of `keepdims` will become False, the `axis` over which the statistic is taken will be eliminated, and the value None will no longer be accepted. Set `keepdims` to True or False to avoid this warning.\n",
      "  x = stats.mode(arr)\n"
     ]
    }
   ],
   "source": [
    "from scipy import stats\n",
    "arr = [1,2,3,4,5,6,7]\n",
    "x = stats.mode(arr)\n",
    "print(x)"
   ]
  },
  {
   "cell_type": "code",
   "execution_count": 47,
   "id": "38c6a5e6",
   "metadata": {},
   "outputs": [
    {
     "data": {
      "text/plain": [
       "4.0"
      ]
     },
     "execution_count": 47,
     "metadata": {},
     "output_type": "execute_result"
    }
   ],
   "source": [
    "np.var(arr)"
   ]
  },
  {
   "cell_type": "code",
   "execution_count": 48,
   "id": "20875c9a",
   "metadata": {},
   "outputs": [
    {
     "data": {
      "text/plain": [
       "7.0"
      ]
     },
     "execution_count": 48,
     "metadata": {},
     "output_type": "execute_result"
    }
   ],
   "source": [
    "np.percentile(arr, 75)\n",
    "np.percentile(arr, 100)"
   ]
  },
  {
   "cell_type": "code",
   "execution_count": 49,
   "id": "182a5a42",
   "metadata": {},
   "outputs": [
    {
     "data": {
      "image/png": "[encoded data removed]",
      "text/plain": [
       "<Figure size 640x480 with 1 Axes>"
      ]
     },
     "metadata": {},
     "output_type": "display_data"
    }
   ],
   "source": [
    "import numpy as np\n",
    "import matplotlib.pyplot as plt\n",
    "\n",
    "x = np.random.uniform(0.0, 5.0, 250)  # uniform data distribution\n",
    "\n",
    "plt.hist(x, 5)\n",
    "plt.show()"
   ]
  },
  {
   "cell_type": "code",
   "execution_count": 50,
   "id": "8395d04d",
   "metadata": {},
   "outputs": [
    {
     "data": {
      "image/png": "[encoded data removed]",
      "text/plain": [
       "<Figure size 640x480 with 1 Axes>"
      ]
     },
     "metadata": {},
     "output_type": "display_data"
    }
   ],
   "source": [
    "arr4 = np.random.normal(5.0, 1.0, 100000)  # 5.0 -- mean, 1.0 -- standard deviation\n",
    "plt.hist(arr4, 1000)\n",
    "plt.show()"
   ]
  },
  {
   "cell_type": "code",
   "execution_count": 51,
   "id": "58f62d74",
   "metadata": {},
   "outputs": [
    {
     "data": {
      "image/png": "[encoded data removed]",
      "text/plain": [
       "<Figure size 640x480 with 1 Axes>"
      ]
     },
     "metadata": {},
     "output_type": "display_data"
    }
   ],
   "source": [
    "arr4 = np.random.normal(5.0, 1.0, 100)\n",
    "arr5 = np.random.normal(7.0, 5.0, 100)\n",
    "plt.scatter(arr4, arr5, color='r', marker='*')\n",
    "plt.show()"
   ]
  },
  {
   "cell_type": "code",
   "execution_count": 52,
   "id": "13666bed",
   "metadata": {},
   "outputs": [],
   "source": [
    "#LINEAR REGRESSION"
   ]
  },
  {
   "cell_type": "code",
   "execution_count": 53,
   "id": "6343875b",
   "metadata": {},
   "outputs": [
    {
     "data": {
      "image/png": "[encoded data removed]",
      "text/plain": [
       "<Figure size 640x480 with 1 Axes>"
      ]
     },
     "metadata": {},
     "output_type": "display_data"
    }
   ],
   "source": [
    "# Scipy provides efficient and reliable algorithms for numerical computation\n",
    "from scipy import stats \n",
    "import matplotlib.pyplot as plt\n",
    "import numpy as np\n",
    "\n",
    "\n",
    "x = [5,7,8,7,2,17,2,9,4,11,12,9,6]\n",
    "y = [99,86,87,88,111,86,103,87,94,45,89,90,100]\n",
    "\n",
    "slope, intercept, corrcoef, std_err, p = stats.linregress(x,y)\n",
    "\n",
    "def myfunc (x):\n",
    "    return slope*x + intercept\n",
    "\n",
    "pred_y =  list(map(myfunc, x))\n",
    "\n",
    "plt.scatter(x,y)\n",
    "plt.plot(x, pred_y)\n",
    "plt.show()"
   ]
  },
  {
   "cell_type": "code",
   "execution_count": 54,
   "id": "a2a42d55",
   "metadata": {},
   "outputs": [
    {
     "data": {
      "image/png": "[encoded data removed]",
      "text/plain": [
       "<Figure size 640x480 with 1 Axes>"
      ]
     },
     "metadata": {},
     "output_type": "display_data"
    },
    {
     "data": {
      "image/png": "[encoded data removed]",
      "text/plain": [
       "<Figure size 640x480 with 1 Axes>"
      ]
     },
     "metadata": {},
     "output_type": "display_data"
    }
   ],
   "source": [
    "np.std(x)\n",
    "np.std(y)\n",
    "plt.subplot(2,1,1)\n",
    "plt.boxplot(x)\n",
    "plt.show()\n",
    "\n",
    "plt.subplot(2,1,2)\n",
    "plt.boxplot(y)\n",
    "plt.show()"
   ]
  },
  {
   "cell_type": "code",
   "execution_count": 55,
   "id": "b2ea283d",
   "metadata": {},
   "outputs": [
    {
     "data": {
      "text/plain": [
       "0.042986780835783105"
      ]
     },
     "execution_count": 55,
     "metadata": {},
     "output_type": "execute_result"
    }
   ],
   "source": [
    "std_err"
   ]
  },
  {
   "cell_type": "code",
   "execution_count": 56,
   "id": "eac33509",
   "metadata": {},
   "outputs": [
    {
     "data": {
      "text/plain": [
       "-0.56771593034991"
      ]
     },
     "execution_count": 56,
     "metadata": {},
     "output_type": "execute_result"
    }
   ],
   "source": [
    "corrcoef"
   ]
  },
  {
   "cell_type": "code",
   "execution_count": 57,
   "id": "1581c839",
   "metadata": {},
   "outputs": [],
   "source": [
    "#POLYNOMIAL REGRESSION"
   ]
  },
  {
   "cell_type": "code",
   "execution_count": 58,
   "id": "b3642100",
   "metadata": {},
   "outputs": [
    {
     "data": {
      "image/png": "[encoded data removed]",
      "text/plain": [
       "<Figure size 640x480 with 1 Axes>"
      ]
     },
     "metadata": {},
     "output_type": "display_data"
    }
   ],
   "source": [
    "x = [1,2,3,5,6,7,8,9,10,12,13,14,15,16,18,19,21,22]\n",
    "y = [100,90,80,60,60,55,60,65,70,70,75,76,78,79,90,99,99,100]\n",
    "\n",
    "plt.scatter(x,y)\n",
    "plt.show()"
   ]
  },
  {
   "cell_type": "code",
   "execution_count": 59,
   "id": "eafefd11",
   "metadata": {},
   "outputs": [
    {
     "data": {
      "image/png": "[encoded data removed]",
      "text/plain": [
       "<Figure size 640x480 with 1 Axes>"
      ]
     },
     "metadata": {},
     "output_type": "display_data"
    }
   ],
   "source": [
    "predi_y = np.poly1d(np.polyfit(x, y, 2))\n",
    "line = np.linspace(1,22,100)\n",
    "\n",
    "plt.scatter(x,y)\n",
    "plt.plot(line, predi_y(line))\n",
    "plt.show()"
   ]
  },
  {
   "cell_type": "code",
   "execution_count": 60,
   "id": "8505bf8b",
   "metadata": {},
   "outputs": [
    {
     "data": {
      "image/png": "[encoded data removed]",
      "text/plain": [
       "<Figure size 640x480 with 1 Axes>"
      ]
     },
     "metadata": {},
     "output_type": "display_data"
    }
   ],
   "source": [
    "predi_y = np.poly1d(np.polyfit(x, y, 3))\n",
    "line = np.linspace(1,22,100)  # giving linspace is of utter importance otherwise the line will be straight \n",
    "\n",
    "plt.scatter(x,y)\n",
    "plt.plot(line, predi_y(line))\n",
    "plt.show()"
   ]
  },
  {
   "cell_type": "code",
   "execution_count": 61,
   "id": "8228fd59",
   "metadata": {},
   "outputs": [
    {
     "data": {
      "image/png": "[encoded data removed]",
      "text/plain": [
       "<Figure size 640x480 with 1 Axes>"
      ]
     },
     "metadata": {},
     "output_type": "display_data"
    }
   ],
   "source": [
    "predi_y = np.poly1d(np.polyfit(x, y, 4))\n",
    "line = np.linspace(1,22,100)\n",
    "\n",
    "plt.scatter(x,y)\n",
    "plt.plot(line, predi_y(line))\n",
    "plt.show()"
   ]
  },
  {
   "cell_type": "code",
   "execution_count": 62,
   "id": "4dfd39dc",
   "metadata": {},
   "outputs": [
    {
     "data": {
      "image/png": "[encoded data removed]",
      "text/plain": [
       "<Figure size 640x480 with 1 Axes>"
      ]
     },
     "metadata": {},
     "output_type": "display_data"
    }
   ],
   "source": [
    "predi_y = np.poly1d(np.polyfit(x, y, 10))    # NOW here we see that using higher degrees of polynomial lead to overfitting..... So it's important to make a tradeoff with the degree of polynomial used\n",
    "line = np.linspace(1,22,100)\n",
    "\n",
    "plt.scatter(x,y)\n",
    "plt.plot(line, predi_y(line))\n",
    "plt.show()"
   ]
  },
  {
   "cell_type": "code",
   "execution_count": 63,
   "id": "3caf97b2",
   "metadata": {},
   "outputs": [
    {
     "name": "stdout",
     "output_type": "stream",
     "text": [
      "0.9432150416451027\n"
     ]
    }
   ],
   "source": [
    "from sklearn.metrics import r2_score    # r2_score tells the relationship between our data values\n",
    "\n",
    "x = [1,2,3,5,6,7,8,9,10,12,13,14,15,16,18,19,21,22]\n",
    "y = [100,90,80,60,60,55,60,65,70,70,75,76,78,79,90,99,99,100]\n",
    "\n",
    "predi_y = np.poly1d(np.polyfit(x, y, 3))   \n",
    "print(r2_score(y, predi_y(x)))"
   ]
  },
  {
   "cell_type": "code",
   "execution_count": 64,
   "id": "96cadd03",
   "metadata": {},
   "outputs": [
    {
     "name": "stdout",
     "output_type": "stream",
     "text": [
      "88.87331269697987\n"
     ]
    }
   ],
   "source": [
    "print(predi_y(17))   # find the speed of a car travelling at the 17th hour "
   ]
  },
  {
   "cell_type": "code",
   "execution_count": 65,
   "id": "8f89e6ed",
   "metadata": {},
   "outputs": [
    {
     "data": {
      "text/plain": [
       "0.009952707566680652"
      ]
     },
     "execution_count": 65,
     "metadata": {},
     "output_type": "execute_result"
    }
   ],
   "source": [
    "x = [89,43,36,36,95,10,66,34,38,20,26,29,48,64,6,5,36,66,72,40]\n",
    "y = [21,46,3,35,67,95,53,72,58,10,26,34,90,33,38,20,56,2,47,15]\n",
    "\n",
    "mymodel = np.poly1d(np.polyfit(x,y,3))\n",
    "\n",
    "r2_score(y, mymodel(x))    # data sets are barely related to each other -- means fitting polynomial regression isn't right here"
   ]
  },
  {
   "cell_type": "code",
   "execution_count": 66,
   "id": "fb42b557",
   "metadata": {},
   "outputs": [],
   "source": [
    "# MULTIPLE REGRESSION"
   ]
  },
  {
   "cell_type": "code",
   "execution_count": 67,
   "id": "bcf2f906",
   "metadata": {},
   "outputs": [],
   "source": [
    "import pandas as pd\n",
    "\n",
    "data = pd.read_csv('data_CO2_emission.csv')\n",
    "X = data[['Weight', 'Volume']]  # --independent variables\n",
    "y = data['CO2']  # --dependent variables"
   ]
  },
  {
   "cell_type": "code",
   "execution_count": 68,
   "id": "41dabbaf",
   "metadata": {},
   "outputs": [
    {
     "data": {
      "text/plain": [
       "LinearRegression()"
      ]
     },
     "execution_count": 68,
     "metadata": {},
     "output_type": "execute_result"
    }
   ],
   "source": [
    "from sklearn import linear_model\n",
    "\n",
    "feature_names = ['Car', 'Model', 'Volume', 'Weights']\n",
    "regr = linear_model.LinearRegression()\n",
    "regr.fit(X, y)   # training the model to find a relationship between the two values given to it"
   ]
  },
  {
   "cell_type": "code",
   "execution_count": 69,
   "id": "efc4ea29",
   "metadata": {},
   "outputs": [
    {
     "name": "stdout",
     "output_type": "stream",
     "text": [
      "[107.2087328]\n"
     ]
    },
    {
     "name": "stderr",
     "output_type": "stream",
     "text": [
      "D:\\Downloads\\anaconda_3\\lib\\site-packages\\sklearn\\base.py:450: UserWarning: X does not have valid feature names, but LinearRegression was fitted with feature names\n",
      "  warnings.warn(\n"
     ]
    }
   ],
   "source": [
    "predicted_co2 = regr.predict([[2300, 1300]])   #  predicting the CO2 emission for unknown weight and volume values\n",
    "print(predicted_co2)"
   ]
  },
  {
   "cell_type": "code",
   "execution_count": 70,
   "id": "bcf761fe",
   "metadata": {},
   "outputs": [
    {
     "name": "stdout",
     "output_type": "stream",
     "text": [
      "[0.00755095 0.00780526]\n"
     ]
    }
   ],
   "source": [
    "print(regr.coef_)  # shows the values for weight and volume"
   ]
  },
  {
   "cell_type": "code",
   "execution_count": 71,
   "id": "118844d0",
   "metadata": {},
   "outputs": [
    {
     "name": "stderr",
     "output_type": "stream",
     "text": [
      "D:\\Downloads\\anaconda_3\\lib\\site-packages\\sklearn\\base.py:450: UserWarning: X does not have valid feature names, but LinearRegression was fitted with feature names\n",
      "  warnings.warn(\n"
     ]
    },
    {
     "data": {
      "text/plain": [
       "array([114.75968007])"
      ]
     },
     "execution_count": 71,
     "metadata": {},
     "output_type": "execute_result"
    }
   ],
   "source": [
    "regr.predict([[3300, 1300]])"
   ]
  },
  {
   "cell_type": "code",
   "execution_count": 72,
   "id": "fff3bf98",
   "metadata": {},
   "outputs": [
    {
     "data": {
      "text/plain": [
       "array([[-2.10389253, -1.59336644],\n",
       "       [-0.55407235, -1.07190106],\n",
       "       [-1.52166278, -1.59336644],\n",
       "       [-1.78973979, -1.85409913],\n",
       "       [-0.63784641, -0.28970299],\n",
       "       [-1.52166278, -1.59336644],\n",
       "       [-0.76769621, -0.55043568],\n",
       "       [ 0.3046118 , -0.28970299],\n",
       "       [-0.7551301 , -0.28970299],\n",
       "       [-0.59595938, -0.0289703 ],\n",
       "       [-1.30803892, -1.33263375],\n",
       "       [-1.26615189, -0.81116837],\n",
       "       [-0.7551301 , -1.59336644],\n",
       "       [-0.16871166, -0.0289703 ],\n",
       "       [ 0.14125238, -0.0289703 ],\n",
       "       [ 0.15800719, -0.0289703 ],\n",
       "       [ 0.3046118 , -0.0289703 ],\n",
       "       [-0.05142797,  1.53542584],\n",
       "       [-0.72580918, -0.0289703 ],\n",
       "       [ 0.14962979,  1.01396046],\n",
       "       [ 1.2219378 , -0.0289703 ],\n",
       "       [ 0.5685001 ,  1.01396046],\n",
       "       [ 0.3046118 ,  1.27469315],\n",
       "       [ 0.51404696, -0.0289703 ],\n",
       "       [ 0.51404696,  1.01396046],\n",
       "       [ 0.72348212, -0.28970299],\n",
       "       [ 0.8281997 ,  1.01396046],\n",
       "       [ 1.81254495,  1.01396046],\n",
       "       [ 0.96642691, -0.0289703 ],\n",
       "       [ 1.72877089,  1.01396046],\n",
       "       [ 1.30990057,  1.27469315],\n",
       "       [ 1.90050772,  1.01396046],\n",
       "       [-0.23991961, -0.0289703 ],\n",
       "       [ 0.40932938, -0.0289703 ],\n",
       "       [ 0.47215993, -0.0289703 ],\n",
       "       [ 0.4302729 ,  2.31762392]])"
      ]
     },
     "execution_count": 72,
     "metadata": {},
     "output_type": "execute_result"
    }
   ],
   "source": [
    "#SCALING  -- converting values to other formats for meaningful comparisons\n",
    "from sklearn.preprocessing import StandardScaler\n",
    "scale = StandardScaler()\n",
    "\n",
    "X = data[['Weight', 'Volume']]\n",
    "scaledX = scale.fit_transform(X)\n",
    "scaledX"
   ]
  },
  {
   "cell_type": "code",
   "execution_count": 73,
   "id": "fc84b246",
   "metadata": {},
   "outputs": [
    {
     "name": "stdout",
     "output_type": "stream",
     "text": [
      "[107.2087328]\n"
     ]
    },
    {
     "name": "stderr",
     "output_type": "stream",
     "text": [
      "D:\\Downloads\\anaconda_3\\lib\\site-packages\\sklearn\\base.py:450: UserWarning: X does not have valid feature names, but StandardScaler was fitted with feature names\n",
      "  warnings.warn(\n"
     ]
    }
   ],
   "source": [
    "# Scaling and Linear Regression\n",
    "regr = linear_model.LinearRegression()\n",
    "regr.fit(scaledX, y)\n",
    "\n",
    "scaled = scale.transform([[2300, 1300]])\n",
    "\n",
    "predicted_output = regr.predict([scaled[0]])\n",
    "print(predicted_output)"
   ]
  },
  {
   "cell_type": "code",
   "execution_count": 74,
   "id": "1f92d289",
   "metadata": {},
   "outputs": [],
   "source": [
    "#TRAIN / TEST"
   ]
  },
  {
   "cell_type": "code",
   "execution_count": 75,
   "id": "7285e3e1",
   "metadata": {},
   "outputs": [
    {
     "name": "stdout",
     "output_type": "stream",
     "text": [
      "0.7988645544629795\n"
     ]
    }
   ],
   "source": [
    "from sklearn.metrics import r2_score\n",
    "np.random.seed(2)\n",
    "\n",
    "x = np.random.normal(3, 1, 100)\n",
    "y = np.random.normal(150, 40, 100) / x\n",
    "\n",
    "train_x = x[:80]\n",
    "train_y = y[:80]\n",
    "\n",
    "test_x = x[80:]\n",
    "test_y = y[80:]\n",
    "\n",
    "mymodel = np.poly1d(np.polyfit(train_x, train_y, 4))\n",
    "\n",
    "r2 = r2_score(train_y, mymodel(train_x))\n",
    "\n",
    "print(r2)"
   ]
  },
  {
   "cell_type": "code",
   "execution_count": 76,
   "id": "4a16988e",
   "metadata": {},
   "outputs": [
    {
     "data": {
      "image/png": "[encoded data removed]",
      "text/plain": [
       "<Figure size 640x480 with 1 Axes>"
      ]
     },
     "metadata": {},
     "output_type": "display_data"
    }
   ],
   "source": [
    "plt.scatter(train_x, train_y)   # display training data set\n",
    "plt.show()"
   ]
  },
  {
   "cell_type": "code",
   "execution_count": 77,
   "id": "6ccd8308",
   "metadata": {},
   "outputs": [
    {
     "data": {
      "image/png": "[encoded data removed]",
      "text/plain": [
       "<Figure size 640x480 with 1 Axes>"
      ]
     },
     "metadata": {},
     "output_type": "display_data"
    }
   ],
   "source": [
    "plt.scatter(test_x, test_y)   # display testing data set\n",
    "plt.show()"
   ]
  },
  {
   "cell_type": "code",
   "execution_count": 78,
   "id": "c4dcef46",
   "metadata": {},
   "outputs": [],
   "source": [
    "#looking at the data set ... the suitable model would be Polynomial Regression\n",
    "model = np.poly1d(np.polyfit(train_x, train_y, 4))\n",
    "line = np.linspace(0, 6, 100)"
   ]
  },
  {
   "cell_type": "code",
   "execution_count": 87,
   "id": "f73950c9",
   "metadata": {},
   "outputs": [
    {
     "data": {
      "image/png": "[encoded data removed]",
      "text/plain": [
       "<Figure size 640x480 with 1 Axes>"
      ]
     },
     "metadata": {},
     "output_type": "display_data"
    }
   ],
   "source": [
    "plt.scatter(train_x, train_y)\n",
    "plt.plot(line, model(line))\n",
    "plt.show()"
   ]
  },
  {
   "cell_type": "code",
   "execution_count": 80,
   "id": "9a382b47",
   "metadata": {},
   "outputs": [
    {
     "data": {
      "text/plain": [
       "0.7988645544629795"
      ]
     },
     "execution_count": 80,
     "metadata": {},
     "output_type": "execute_result"
    }
   ],
   "source": [
    "from sklearn.metrics import r2_score \n",
    "\n",
    "r2_score(train_y, model(train_x))"
   ]
  },
  {
   "cell_type": "code",
   "execution_count": 81,
   "id": "a20842fc",
   "metadata": {},
   "outputs": [],
   "source": [
    "#DECISION TREES"
   ]
  },
  {
   "cell_type": "code",
   "execution_count": 117,
   "id": "fdea8f84",
   "metadata": {},
   "outputs": [
    {
     "data": {
      "text/html": [
       "<div>\n",
       "<style scoped>\n",
       "    .dataframe tbody tr th:only-of-type {\n",
       "        vertical-align: middle;\n",
       "    }\n",
       "\n",
       "    .dataframe tbody tr th {\n",
       "        vertical-align: top;\n",
       "    }\n",
       "\n",
       "    .dataframe thead th {\n",
       "        text-align: right;\n",
       "    }\n",
       "</style>\n",
       "<table border=\"1\" class=\"dataframe\">\n",
       "  <thead>\n",
       "    <tr style=\"text-align: right;\">\n",
       "      <th></th>\n",
       "      <th>5.1</th>\n",
       "      <th>3.5</th>\n",
       "      <th>1.4</th>\n",
       "      <th>0.2</th>\n",
       "      <th>Iris-setosa</th>\n",
       "    </tr>\n",
       "  </thead>\n",
       "  <tbody>\n",
       "    <tr>\n",
       "      <th>0</th>\n",
       "      <td>4.9</td>\n",
       "      <td>3.0</td>\n",
       "      <td>1.4</td>\n",
       "      <td>0.2</td>\n",
       "      <td>1</td>\n",
       "    </tr>\n",
       "    <tr>\n",
       "      <th>1</th>\n",
       "      <td>4.7</td>\n",
       "      <td>3.2</td>\n",
       "      <td>1.3</td>\n",
       "      <td>0.2</td>\n",
       "      <td>1</td>\n",
       "    </tr>\n",
       "    <tr>\n",
       "      <th>2</th>\n",
       "      <td>4.6</td>\n",
       "      <td>3.1</td>\n",
       "      <td>1.5</td>\n",
       "      <td>0.2</td>\n",
       "      <td>1</td>\n",
       "    </tr>\n",
       "    <tr>\n",
       "      <th>3</th>\n",
       "      <td>5.0</td>\n",
       "      <td>3.6</td>\n",
       "      <td>1.4</td>\n",
       "      <td>0.2</td>\n",
       "      <td>1</td>\n",
       "    </tr>\n",
       "    <tr>\n",
       "      <th>4</th>\n",
       "      <td>5.4</td>\n",
       "      <td>3.9</td>\n",
       "      <td>1.7</td>\n",
       "      <td>0.4</td>\n",
       "      <td>1</td>\n",
       "    </tr>\n",
       "    <tr>\n",
       "      <th>...</th>\n",
       "      <td>...</td>\n",
       "      <td>...</td>\n",
       "      <td>...</td>\n",
       "      <td>...</td>\n",
       "      <td>...</td>\n",
       "    </tr>\n",
       "    <tr>\n",
       "      <th>144</th>\n",
       "      <td>6.7</td>\n",
       "      <td>3.0</td>\n",
       "      <td>5.2</td>\n",
       "      <td>2.3</td>\n",
       "      <td>2</td>\n",
       "    </tr>\n",
       "    <tr>\n",
       "      <th>145</th>\n",
       "      <td>6.3</td>\n",
       "      <td>2.5</td>\n",
       "      <td>5.0</td>\n",
       "      <td>1.9</td>\n",
       "      <td>2</td>\n",
       "    </tr>\n",
       "    <tr>\n",
       "      <th>146</th>\n",
       "      <td>6.5</td>\n",
       "      <td>3.0</td>\n",
       "      <td>5.2</td>\n",
       "      <td>2.0</td>\n",
       "      <td>2</td>\n",
       "    </tr>\n",
       "    <tr>\n",
       "      <th>147</th>\n",
       "      <td>6.2</td>\n",
       "      <td>3.4</td>\n",
       "      <td>5.4</td>\n",
       "      <td>2.3</td>\n",
       "      <td>2</td>\n",
       "    </tr>\n",
       "    <tr>\n",
       "      <th>148</th>\n",
       "      <td>5.9</td>\n",
       "      <td>3.0</td>\n",
       "      <td>5.1</td>\n",
       "      <td>1.8</td>\n",
       "      <td>2</td>\n",
       "    </tr>\n",
       "  </tbody>\n",
       "</table>\n",
       "<p>149 rows × 5 columns</p>\n",
       "</div>"
      ],
      "text/plain": [
       "     5.1  3.5  1.4  0.2  Iris-setosa\n",
       "0    4.9  3.0  1.4  0.2            1\n",
       "1    4.7  3.2  1.3  0.2            1\n",
       "2    4.6  3.1  1.5  0.2            1\n",
       "3    5.0  3.6  1.4  0.2            1\n",
       "4    5.4  3.9  1.7  0.4            1\n",
       "..   ...  ...  ...  ...          ...\n",
       "144  6.7  3.0  5.2  2.3            2\n",
       "145  6.3  2.5  5.0  1.9            2\n",
       "146  6.5  3.0  5.2  2.0            2\n",
       "147  6.2  3.4  5.4  2.3            2\n",
       "148  5.9  3.0  5.1  1.8            2\n",
       "\n",
       "[149 rows x 5 columns]"
      ]
     },
     "execution_count": 117,
     "metadata": {},
     "output_type": "execute_result"
    }
   ],
   "source": [
    "data = pd.read_csv('iris.csv')\n",
    "d = {'Iris-setosa' : 1, 'Iris-virginica' : 2, 'Iris-versicolor': 3}\n",
    "data['Iris-setosa'] = data['Iris-setosa'].map(d)\n",
    "data  # Converted to Numerical Data"
   ]
  },
  {
   "cell_type": "code",
   "execution_count": 136,
   "id": "69b9bb2e",
   "metadata": {},
   "outputs": [],
   "source": [
    "data.rename(columns={'5.1':'Car', '3.5': 'Height', '1.4': 'Volume', '0.2': 'Weight', 'Iris-setosa': 'Prediction'}, inplace = True)"
   ]
  },
  {
   "cell_type": "code",
   "execution_count": 137,
   "id": "dafa02e7",
   "metadata": {},
   "outputs": [
    {
     "data": {
      "text/html": [
       "<div>\n",
       "<style scoped>\n",
       "    .dataframe tbody tr th:only-of-type {\n",
       "        vertical-align: middle;\n",
       "    }\n",
       "\n",
       "    .dataframe tbody tr th {\n",
       "        vertical-align: top;\n",
       "    }\n",
       "\n",
       "    .dataframe thead th {\n",
       "        text-align: right;\n",
       "    }\n",
       "</style>\n",
       "<table border=\"1\" class=\"dataframe\">\n",
       "  <thead>\n",
       "    <tr style=\"text-align: right;\">\n",
       "      <th></th>\n",
       "      <th>Car</th>\n",
       "      <th>Height</th>\n",
       "      <th>Volume</th>\n",
       "      <th>Weight</th>\n",
       "      <th>Prediction</th>\n",
       "    </tr>\n",
       "  </thead>\n",
       "  <tbody>\n",
       "    <tr>\n",
       "      <th>0</th>\n",
       "      <td>4.9</td>\n",
       "      <td>3.0</td>\n",
       "      <td>1.4</td>\n",
       "      <td>0.2</td>\n",
       "      <td>1</td>\n",
       "    </tr>\n",
       "    <tr>\n",
       "      <th>1</th>\n",
       "      <td>4.7</td>\n",
       "      <td>3.2</td>\n",
       "      <td>1.3</td>\n",
       "      <td>0.2</td>\n",
       "      <td>1</td>\n",
       "    </tr>\n",
       "    <tr>\n",
       "      <th>2</th>\n",
       "      <td>4.6</td>\n",
       "      <td>3.1</td>\n",
       "      <td>1.5</td>\n",
       "      <td>0.2</td>\n",
       "      <td>1</td>\n",
       "    </tr>\n",
       "    <tr>\n",
       "      <th>3</th>\n",
       "      <td>5.0</td>\n",
       "      <td>3.6</td>\n",
       "      <td>1.4</td>\n",
       "      <td>0.2</td>\n",
       "      <td>1</td>\n",
       "    </tr>\n",
       "    <tr>\n",
       "      <th>4</th>\n",
       "      <td>5.4</td>\n",
       "      <td>3.9</td>\n",
       "      <td>1.7</td>\n",
       "      <td>0.4</td>\n",
       "      <td>1</td>\n",
       "    </tr>\n",
       "    <tr>\n",
       "      <th>...</th>\n",
       "      <td>...</td>\n",
       "      <td>...</td>\n",
       "      <td>...</td>\n",
       "      <td>...</td>\n",
       "      <td>...</td>\n",
       "    </tr>\n",
       "    <tr>\n",
       "      <th>144</th>\n",
       "      <td>6.7</td>\n",
       "      <td>3.0</td>\n",
       "      <td>5.2</td>\n",
       "      <td>2.3</td>\n",
       "      <td>2</td>\n",
       "    </tr>\n",
       "    <tr>\n",
       "      <th>145</th>\n",
       "      <td>6.3</td>\n",
       "      <td>2.5</td>\n",
       "      <td>5.0</td>\n",
       "      <td>1.9</td>\n",
       "      <td>2</td>\n",
       "    </tr>\n",
       "    <tr>\n",
       "      <th>146</th>\n",
       "      <td>6.5</td>\n",
       "      <td>3.0</td>\n",
       "      <td>5.2</td>\n",
       "      <td>2.0</td>\n",
       "      <td>2</td>\n",
       "    </tr>\n",
       "    <tr>\n",
       "      <th>147</th>\n",
       "      <td>6.2</td>\n",
       "      <td>3.4</td>\n",
       "      <td>5.4</td>\n",
       "      <td>2.3</td>\n",
       "      <td>2</td>\n",
       "    </tr>\n",
       "    <tr>\n",
       "      <th>148</th>\n",
       "      <td>5.9</td>\n",
       "      <td>3.0</td>\n",
       "      <td>5.1</td>\n",
       "      <td>1.8</td>\n",
       "      <td>2</td>\n",
       "    </tr>\n",
       "  </tbody>\n",
       "</table>\n",
       "<p>149 rows × 5 columns</p>\n",
       "</div>"
      ],
      "text/plain": [
       "     Car  Height  Volume  Weight  Prediction\n",
       "0    4.9     3.0     1.4     0.2           1\n",
       "1    4.7     3.2     1.3     0.2           1\n",
       "2    4.6     3.1     1.5     0.2           1\n",
       "3    5.0     3.6     1.4     0.2           1\n",
       "4    5.4     3.9     1.7     0.4           1\n",
       "..   ...     ...     ...     ...         ...\n",
       "144  6.7     3.0     5.2     2.3           2\n",
       "145  6.3     2.5     5.0     1.9           2\n",
       "146  6.5     3.0     5.2     2.0           2\n",
       "147  6.2     3.4     5.4     2.3           2\n",
       "148  5.9     3.0     5.1     1.8           2\n",
       "\n",
       "[149 rows x 5 columns]"
      ]
     },
     "execution_count": 137,
     "metadata": {},
     "output_type": "execute_result"
    }
   ],
   "source": [
    "data"
   ]
  },
  {
   "cell_type": "code",
   "execution_count": 140,
   "id": "1caa7ee6",
   "metadata": {},
   "outputs": [],
   "source": [
    "X = data[['Car', 'Height', 'Weight', 'Volume']]\n",
    "y = data['Prediction']"
   ]
  },
  {
   "cell_type": "code",
   "execution_count": 152,
   "id": "daa156ee",
   "metadata": {},
   "outputs": [
    {
     "data": {
      "image/png": "[encoded data removed]",
      "text/plain": [
       "<Figure size 640x480 with 1 Axes>"
      ]
     },
     "metadata": {},
     "output_type": "display_data"
    }
   ],
   "source": [
    "from sklearn import tree\n",
    "from sklearn.tree import DecisionTreeClassifier\n",
    "\n",
    "dtree = DecisionTreeClassifier()\n",
    "dtree = dtree.fit(X, y)\n",
    "\n",
    "tree = tree.plot_tree(dtree)"
   ]
  },
  {
   "cell_type": "code",
   "execution_count": 158,
   "id": "3b1ed13d",
   "metadata": {},
   "outputs": [
    {
     "name": "stdout",
     "output_type": "stream",
     "text": [
      "[3]\n"
     ]
    },
    {
     "name": "stderr",
     "output_type": "stream",
     "text": [
      "D:\\Downloads\\anaconda_3\\lib\\site-packages\\sklearn\\base.py:450: UserWarning: X does not have valid feature names, but DecisionTreeClassifier was fitted with feature names\n",
      "  warnings.warn(\n"
     ]
    }
   ],
   "source": [
    "print(dtree.predict([[2, 5, 2, 2]]))"
   ]
  },
  {
   "cell_type": "code",
   "execution_count": null,
   "id": "d196329d",
   "metadata": {},
   "outputs": [],
   "source": []
  }
 ],
 "metadata": {
  "kernelspec": {
   "display_name": "Python 3 (ipykernel)",
   "language": "python",
   "name": "python3"
  },
  "language_info": {
   "codemirror_mode": {
    "name": "ipython",
    "version": 3
   },
   "file_extension": ".py",
   "mimetype": "text/x-python",
   "name": "python",
   "nbconvert_exporter": "python",
   "pygments_lexer": "ipython3",
   "version": "3.9.13"
  }
 },
 "nbformat": 4,
 "nbformat_minor": 5
}
