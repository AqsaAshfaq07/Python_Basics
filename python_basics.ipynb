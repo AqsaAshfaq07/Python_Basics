{
 "cells": [
  {
   "cell_type": "code",
   "execution_count": 12,
   "id": "0da50835",
   "metadata": {},
   "outputs": [
    {
     "data": {
      "text/plain": [
       "[2, 3, 4, 5]"
      ]
     },
     "execution_count": 12,
     "metadata": {},
     "output_type": "execute_result"
    }
   ],
   "source": [
    "import numpy as np\n",
    "list1 = [2,3,4,5]\n",
    "list1"
   ]
  },
  {
   "cell_type": "code",
   "execution_count": 29,
   "id": "745cfc5d",
   "metadata": {},
   "outputs": [
    {
     "data": {
      "text/plain": [
       "[2, 3, 4, 5, 6]"
      ]
     },
     "execution_count": 29,
     "metadata": {},
     "output_type": "execute_result"
    }
   ],
   "source": [
    "list1.append(6)\n",
    "list1"
   ]
  },
  {
   "cell_type": "code",
   "execution_count": 30,
   "id": "5868f38c",
   "metadata": {},
   "outputs": [
    {
     "data": {
      "text/plain": [
       "5"
      ]
     },
     "execution_count": 30,
     "metadata": {},
     "output_type": "execute_result"
    }
   ],
   "source": [
    "len(list1)"
   ]
  },
  {
   "cell_type": "code",
   "execution_count": 31,
   "id": "20317b96",
   "metadata": {},
   "outputs": [
    {
     "data": {
      "text/plain": [
       "True"
      ]
     },
     "execution_count": 31,
     "metadata": {},
     "output_type": "execute_result"
    }
   ],
   "source": [
    "x = lambda a : a in list1\n",
    "x(6)"
   ]
  },
  {
   "cell_type": "code",
   "execution_count": 32,
   "id": "b085a3f2",
   "metadata": {},
   "outputs": [
    {
     "data": {
      "text/plain": [
       "8"
      ]
     },
     "execution_count": 32,
     "metadata": {},
     "output_type": "execute_result"
    }
   ],
   "source": [
    "class my_class:\n",
    "    x = 8\n",
    "\n",
    "obj1 = my_class()\n",
    "obj1.x"
   ]
  },
  {
   "cell_type": "code",
   "execution_count": 33,
   "id": "caf2f157",
   "metadata": {},
   "outputs": [
    {
     "name": "stdout",
     "output_type": "stream",
     "text": [
      "<__main__.class1 object at 0x0000012114E02C40>\n"
     ]
    }
   ],
   "source": [
    "class class1:\n",
    "    def __init__ (self, name, age):\n",
    "        self.name = name\n",
    "        self.age = age\n",
    "        \n",
    "obj1 = class1('john', 14)\n",
    "print(obj1)\n",
    "# Any word can be used instead of self ... points to the first member of the class"
   ]
  },
  {
   "cell_type": "code",
   "execution_count": 34,
   "id": "c241a2d7",
   "metadata": {},
   "outputs": [],
   "source": [
    "class class1:\n",
    "    def __init__ (this, name, age):\n",
    "        this.name = name\n",
    "        this.age = age\n",
    "        \n",
    "    def __str__(this):\n",
    "        return f\"{this.name}({this.age})\"        \n",
    "        \n",
    "obj1 = class1('john', 14)\n",
    "del obj1"
   ]
  },
  {
   "cell_type": "code",
   "execution_count": 35,
   "id": "551f8c81",
   "metadata": {},
   "outputs": [
    {
     "name": "stdout",
     "output_type": "stream",
     "text": [
      "hello aqsaashfaq\n"
     ]
    }
   ],
   "source": [
    "class class2(class1):\n",
    "    def __init__ (this, fname, lname):\n",
    "        super().__init__ (fname, lname)\n",
    "        this.fname = fname\n",
    "        this.lname = lname\n",
    "        \n",
    "    def welcome(this):\n",
    "        return ( \"hello \" + this.fname + this.lname)\n",
    "        \n",
    "student = class2(\"aqsa\", \"ashfaq\")\n",
    "print(student.welcome())"
   ]
  },
  {
   "cell_type": "code",
   "execution_count": 36,
   "id": "f65338c9",
   "metadata": {},
   "outputs": [
    {
     "name": "stdout",
     "output_type": "stream",
     "text": [
      "1\n",
      "2\n"
     ]
    }
   ],
   "source": [
    "mytuple = (1,2,3)\n",
    "myit = iter(mytuple)\n",
    "print(next(myit))\n",
    "print(next(myit))\n"
   ]
  },
  {
   "cell_type": "code",
   "execution_count": 37,
   "id": "48c3c761",
   "metadata": {},
   "outputs": [
    {
     "name": "stdout",
     "output_type": "stream",
     "text": [
      "banana\n",
      "apple\n"
     ]
    }
   ],
   "source": [
    "mystr = [\"banana\", \"apple\"]\n",
    "myit = iter(mystr)\n",
    "\n",
    "print(next(myit))\n",
    "print(next(myit))"
   ]
  },
  {
   "cell_type": "code",
   "execution_count": 38,
   "id": "3f8e9c72",
   "metadata": {},
   "outputs": [],
   "source": [
    "#PYTHON CLASSES AND FUNCTIONS"
   ]
  },
  {
   "cell_type": "code",
   "execution_count": 39,
   "id": "7e18d215",
   "metadata": {},
   "outputs": [
    {
     "name": "stdout",
     "output_type": "stream",
     "text": [
      "1\n",
      "2\n",
      "3\n",
      "4\n"
     ]
    }
   ],
   "source": [
    "class MyNumbers:\n",
    "  def __iter__(self):\n",
    "    self.a = 1\n",
    "    return self\n",
    "\n",
    "  def __next__(self):\n",
    "        if self.a <= 4:\n",
    "            x = self.a\n",
    "            self.a += 1\n",
    "            return x\n",
    "        else :\n",
    "            raise StopIteration\n",
    "    \n",
    "\n",
    "myclass = MyNumbers()\n",
    "myiter = iter(myclass)\n",
    "\n",
    "print(next(myiter))\n",
    "print(next(myiter))\n",
    "print(next(myiter))\n",
    "print(next(myiter))"
   ]
  },
  {
   "cell_type": "code",
   "execution_count": 40,
   "id": "fc6be8fe",
   "metadata": {},
   "outputs": [
    {
     "name": "stdout",
     "output_type": "stream",
     "text": [
      "<function <lambda> at 0x0000012114E07790>\n"
     ]
    }
   ],
   "source": [
    "def myf():\n",
    "    print(x)\n",
    "    def another():\n",
    "         x = 2\n",
    "    \n",
    "myf()"
   ]
  },
  {
   "cell_type": "code",
   "execution_count": 41,
   "id": "efaf3676",
   "metadata": {},
   "outputs": [
    {
     "name": "stdout",
     "output_type": "stream",
     "text": [
      "200\n",
      "200\n"
     ]
    }
   ],
   "source": [
    "x = 300\n",
    "\n",
    "def myfunc():\n",
    "  global x \n",
    "  x = 200\n",
    "  print(x)\n",
    "\n",
    "myfunc()\n",
    "\n",
    "print(x)"
   ]
  },
  {
   "cell_type": "code",
   "execution_count": 42,
   "id": "3e12d899",
   "metadata": {},
   "outputs": [
    {
     "data": {
      "text/plain": [
       "'Windows'"
      ]
     },
     "execution_count": 42,
     "metadata": {},
     "output_type": "execute_result"
    }
   ],
   "source": [
    "import platform as pt\n",
    "pt.system()"
   ]
  },
  {
   "cell_type": "code",
   "execution_count": 43,
   "id": "e3fb9dea",
   "metadata": {},
   "outputs": [],
   "source": [
    "#PYTHON DATE AND TIME"
   ]
  },
  {
   "cell_type": "code",
   "execution_count": 44,
   "id": "55e7fb3e",
   "metadata": {},
   "outputs": [
    {
     "data": {
      "text/plain": [
       "datetime.datetime(2023, 2, 28, 19, 32, 58, 197306)"
      ]
     },
     "execution_count": 44,
     "metadata": {},
     "output_type": "execute_result"
    }
   ],
   "source": [
    "import datetime\n",
    "x = datetime.datetime.now()\n",
    "x"
   ]
  },
  {
   "cell_type": "code",
   "execution_count": 45,
   "id": "878ec3c2",
   "metadata": {},
   "outputs": [
    {
     "data": {
      "text/plain": [
       "2023"
      ]
     },
     "execution_count": 45,
     "metadata": {},
     "output_type": "execute_result"
    }
   ],
   "source": [
    "x.year"
   ]
  },
  {
   "cell_type": "code",
   "execution_count": 46,
   "id": "cbf66a3f",
   "metadata": {},
   "outputs": [
    {
     "data": {
      "text/plain": [
       "'Tuesday'"
      ]
     },
     "execution_count": 46,
     "metadata": {},
     "output_type": "execute_result"
    }
   ],
   "source": [
    "x.strftime(\"%A\")"
   ]
  },
  {
   "cell_type": "code",
   "execution_count": 47,
   "id": "cd3ec731",
   "metadata": {},
   "outputs": [
    {
     "data": {
      "text/plain": [
       "'Tue Feb 28 19:32:58 2023'"
      ]
     },
     "execution_count": 47,
     "metadata": {},
     "output_type": "execute_result"
    }
   ],
   "source": [
    "x.strftime(\"%c\")"
   ]
  },
  {
   "cell_type": "code",
   "execution_count": 48,
   "id": "51644b50",
   "metadata": {},
   "outputs": [
    {
     "data": {
      "text/plain": [
       "5"
      ]
     },
     "execution_count": 48,
     "metadata": {},
     "output_type": "execute_result"
    }
   ],
   "source": [
    "arr = [1,2,3,4,5]\n",
    "max(arr)"
   ]
  },
  {
   "cell_type": "code",
   "execution_count": 49,
   "id": "6b59c777",
   "metadata": {},
   "outputs": [
    {
     "data": {
      "text/plain": [
       "6"
      ]
     },
     "execution_count": 49,
     "metadata": {},
     "output_type": "execute_result"
    }
   ],
   "source": [
    "a = -7; b =-8; c = 9\n",
    "abs(a+b+c)"
   ]
  },
  {
   "cell_type": "code",
   "execution_count": 50,
   "id": "564c3a64",
   "metadata": {},
   "outputs": [],
   "source": [
    "#PYTHON  |  JSON"
   ]
  },
  {
   "cell_type": "code",
   "execution_count": 66,
   "id": "75062399",
   "metadata": {},
   "outputs": [
    {
     "data": {
      "text/plain": [
       "3.141592653589793"
      ]
     },
     "execution_count": 66,
     "metadata": {},
     "output_type": "execute_result"
    }
   ],
   "source": [
    "import math\n",
    "x =int(math.sqrt(64))\n",
    "x\n",
    "math.pi\n"
   ]
  },
  {
   "cell_type": "code",
   "execution_count": 67,
   "id": "dcd72fda",
   "metadata": {},
   "outputs": [
    {
     "data": {
      "text/plain": [
       "20"
      ]
     },
     "execution_count": 67,
     "metadata": {},
     "output_type": "execute_result"
    }
   ],
   "source": [
    "import json\n",
    "x = '{\"name\": \"aqsa\", \"age\": 20}'\n",
    "y = json.loads(x)\n",
    "y[\"age\"]"
   ]
  },
  {
   "cell_type": "code",
   "execution_count": 68,
   "id": "1d8d2143",
   "metadata": {},
   "outputs": [
    {
     "data": {
      "text/plain": [
       "'{\"age\": 20, \"name\": \"Aqsa\"}'"
      ]
     },
     "execution_count": 68,
     "metadata": {},
     "output_type": "execute_result"
    }
   ],
   "source": [
    "import json\n",
    "student = {  'name': 'Aqsa', 'age': 20 }\n",
    "json_student = json.dumps(student, sort_keys= True)\n",
    "json_student"
   ]
  },
  {
   "cell_type": "code",
   "execution_count": 69,
   "id": "95abc94f",
   "metadata": {},
   "outputs": [],
   "source": [
    "#PYTHON REGULAR EXPRESSIONS"
   ]
  },
  {
   "cell_type": "code",
   "execution_count": 70,
   "id": "0ffd8e60",
   "metadata": {},
   "outputs": [
    {
     "name": "stdout",
     "output_type": "stream",
     "text": [
      "yes!!\n"
     ]
    }
   ],
   "source": [
    "import re\n",
    "text = \"A quick brown fox jumps over the lazy dog.\"\n",
    "x = re.search(\"the|quick\", text)\n",
    "if x:\n",
    "    print('yes!!')\n",
    "else:\n",
    "    print('no:((')"
   ]
  },
  {
   "cell_type": "code",
   "execution_count": 71,
   "id": "7632e5db",
   "metadata": {},
   "outputs": [],
   "source": [
    "txt = \"The name of the new mayor is Mr. Melphoy!!. I am very impressed with the new mayor.\"\n",
    "find = re.findall(\"the/gi\", txt)\n",
    "if find :\n",
    "    pass"
   ]
  },
  {
   "cell_type": "code",
   "execution_count": 72,
   "id": "f6b932f6",
   "metadata": {},
   "outputs": [
    {
     "name": "stdout",
     "output_type": "stream",
     "text": [
      "['The', 'name', 'of', 'the new mayor is Mr. Melphoy!!. I am very impressed with the new mayor.']\n"
     ]
    }
   ],
   "source": [
    "splitt = re.split(\"\\s\", txt, 3)\n",
    "print(splitt)"
   ]
  },
  {
   "cell_type": "code",
   "execution_count": 73,
   "id": "30d0dfe6",
   "metadata": {},
   "outputs": [
    {
     "data": {
      "text/plain": [
       "'The name of respected new mayor is Mr. Melphoy!!. I am very impressed with respected new mayor.'"
      ]
     },
     "execution_count": 73,
     "metadata": {},
     "output_type": "execute_result"
    }
   ],
   "source": [
    "substitute = re.sub(\"the\", \"respected\", txt)\n",
    "substitute"
   ]
  },
  {
   "cell_type": "code",
   "execution_count": 74,
   "id": "61728ca4",
   "metadata": {},
   "outputs": [],
   "source": [
    "#PYTHON TRY....EXCEPT"
   ]
  },
  {
   "cell_type": "code",
   "execution_count": 75,
   "id": "d2d646a0",
   "metadata": {},
   "outputs": [
    {
     "name": "stdout",
     "output_type": "stream",
     "text": [
      "<re.Match object; span=(2, 7), match='quick'>\n",
      "4\n",
      "All fuss resolved\n"
     ]
    }
   ],
   "source": [
    "try:\n",
    "    print(x)\n",
    "except:\n",
    "    print(\"No value defined\")\n",
    "else:\n",
    "    print(4)\n",
    "finally:\n",
    "    print('All fuss resolved')"
   ]
  },
  {
   "cell_type": "code",
   "execution_count": 76,
   "id": "d5cc2e82",
   "metadata": {},
   "outputs": [
    {
     "name": "stdout",
     "output_type": "stream",
     "text": [
      "-1\n"
     ]
    }
   ],
   "source": [
    "x = -1\n",
    "print(x)"
   ]
  },
  {
   "cell_type": "code",
   "execution_count": 77,
   "id": "f024a446",
   "metadata": {},
   "outputs": [
    {
     "ename": "Exception",
     "evalue": "No negative values supposed to be printed",
     "output_type": "error",
     "traceback": [
      "\u001b[1;31m---------------------------------------------------------------------------\u001b[0m",
      "\u001b[1;31mException\u001b[0m                                 Traceback (most recent call last)",
      "\u001b[1;32m~\\AppData\\Local\\Temp\\ipykernel_13144\\2802670803.py\u001b[0m in \u001b[0;36m<module>\u001b[1;34m\u001b[0m\n\u001b[0;32m      1\u001b[0m \u001b[0mx\u001b[0m \u001b[1;33m=\u001b[0m \u001b[1;33m-\u001b[0m\u001b[1;36m1\u001b[0m\u001b[1;33m\u001b[0m\u001b[1;33m\u001b[0m\u001b[0m\n\u001b[0;32m      2\u001b[0m \u001b[1;32mif\u001b[0m \u001b[0mx\u001b[0m\u001b[1;33m<\u001b[0m\u001b[1;36m0\u001b[0m\u001b[1;33m:\u001b[0m\u001b[1;33m\u001b[0m\u001b[1;33m\u001b[0m\u001b[0m\n\u001b[1;32m----> 3\u001b[1;33m     \u001b[1;32mraise\u001b[0m \u001b[0mException\u001b[0m\u001b[1;33m(\u001b[0m\u001b[1;34m\"No negative values supposed to be printed\"\u001b[0m\u001b[1;33m)\u001b[0m\u001b[1;33m\u001b[0m\u001b[1;33m\u001b[0m\u001b[0m\n\u001b[0m",
      "\u001b[1;31mException\u001b[0m: No negative values supposed to be printed"
     ]
    }
   ],
   "source": [
    "x = -1\n",
    "if x<0:\n",
    "    raise Exception(\"No negative values supposed to be printed\")"
   ]
  },
  {
   "cell_type": "code",
   "execution_count": 78,
   "id": "c267b763",
   "metadata": {},
   "outputs": [],
   "source": [
    "#PYTHON INPUT HANDLING"
   ]
  },
  {
   "cell_type": "code",
   "execution_count": null,
   "id": "86bf28a7",
   "metadata": {},
   "outputs": [
    {
     "name": "stdout",
     "output_type": "stream",
     "text": [
      " Enter num1\n"
     ]
    }
   ],
   "source": [
    "num1 = input(\" Enter num1\")\n",
    "num2 = input(\" Enter num2\")\n",
    "op = input(\"Tell the operation you want to be done on the numbers\")\n",
    "def calculate (num1, num2):\n",
    "    return int(num1) + int(num2)\n",
    "calculate(num1, num2)"
   ]
  },
  {
   "cell_type": "code",
   "execution_count": null,
   "id": "6b66791c",
   "metadata": {},
   "outputs": [],
   "source": [
    "# PYTHON FILE HANDLING"
   ]
  },
  {
   "cell_type": "code",
   "execution_count": null,
   "id": "7665eb71",
   "metadata": {},
   "outputs": [],
   "source": [
    "x = open('world_population.csv', 'r')\n",
    "print(x.read(500))"
   ]
  },
  {
   "cell_type": "code",
   "execution_count": null,
   "id": "79ec0f83",
   "metadata": {},
   "outputs": [],
   "source": [
    "print(x.readline())"
   ]
  },
  {
   "cell_type": "code",
   "execution_count": null,
   "id": "930465fd",
   "metadata": {},
   "outputs": [],
   "source": [
    "for i in x:\n",
    "    print(i)"
   ]
  },
  {
   "cell_type": "code",
   "execution_count": null,
   "id": "b315601b",
   "metadata": {},
   "outputs": [],
   "source": [
    "# to remove a file\n",
    "import os\n",
    "if os.path.exists('world_population.csv'):\n",
    "    os.rmdir('world_population.csv')\n",
    "else:\n",
    "    print('File isn\\'t available')\n",
    "\n",
    "    \n",
    "# to remove a folder \n",
    "os.rmdir('folder name')"
   ]
  },
  {
   "cell_type": "code",
   "execution_count": null,
   "id": "f81d9671",
   "metadata": {},
   "outputs": [],
   "source": [
    "x.close()"
   ]
  },
  {
   "cell_type": "code",
   "execution_count": null,
   "id": "088a86ed",
   "metadata": {},
   "outputs": [],
   "source": [
    "#MACHINE LEARNING - "
   ]
  },
  {
   "cell_type": "code",
   "execution_count": null,
   "id": "7c0cdbb6",
   "metadata": {},
   "outputs": [],
   "source": [
    "#MEAN - MEDIAN - MODE"
   ]
  },
  {
   "cell_type": "code",
   "execution_count": 11,
   "id": "0472d48f",
   "metadata": {},
   "outputs": [
    {
     "name": "stdout",
     "output_type": "stream",
     "text": [
      "ModeResult(mode=array([1]), count=array([1]))\n"
     ]
    },
    {
     "name": "stderr",
     "output_type": "stream",
     "text": [
      "C:\\Users\\HP 840 G4\\AppData\\Local\\Temp\\ipykernel_11460\\3836226773.py:3: FutureWarning: Unlike other reduction functions (e.g. `skew`, `kurtosis`), the default behavior of `mode` typically preserves the axis it acts along. In SciPy 1.11.0, this behavior will change: the default value of `keepdims` will become False, the `axis` over which the statistic is taken will be eliminated, and the value None will no longer be accepted. Set `keepdims` to True or False to avoid this warning.\n",
      "  x = stats.mode(arr)\n"
     ]
    }
   ],
   "source": [
    "from scipy import stats\n",
    "arr = [1,2,3,4,5,6,7]\n",
    "x = stats.mode(arr)\n",
    "print(x)"
   ]
  },
  {
   "cell_type": "code",
   "execution_count": 14,
   "id": "38c6a5e6",
   "metadata": {},
   "outputs": [
    {
     "data": {
      "text/plain": [
       "4.0"
      ]
     },
     "execution_count": 14,
     "metadata": {},
     "output_type": "execute_result"
    }
   ],
   "source": [
    "np.var(arr)"
   ]
  },
  {
   "cell_type": "code",
   "execution_count": 13,
   "id": "20875c9a",
   "metadata": {},
   "outputs": [
    {
     "data": {
      "text/plain": [
       "7.0"
      ]
     },
     "execution_count": 13,
     "metadata": {},
     "output_type": "execute_result"
    }
   ],
   "source": [
    "np.percentile(arr, 75)\n",
    "np.percentile(arr, 100)"
   ]
  },
  {
   "cell_type": "code",
   "execution_count": 9,
   "id": "182a5a42",
   "metadata": {},
   "outputs": [
    {
     "data": {
      "image/png": "[encoded data removed]",
      "text/plain": [
       "<Figure size 640x480 with 1 Axes>"
      ]
     },
     "metadata": {},
     "output_type": "display_data"
    }
   ],
   "source": [
    "import numpy as np\n",
    "import matplotlib.pyplot as plt\n",
    "\n",
    "x = np.random.uniform(0.0, 5.0, 250)  # uniform data distribution\n",
    "\n",
    "plt.hist(x, 5)\n",
    "plt.show()"
   ]
  },
  {
   "cell_type": "code",
   "execution_count": 25,
   "id": "8395d04d",
   "metadata": {},
   "outputs": [
    {
     "data": {
      "image/png": "[encoded data removed]",
      "text/plain": [
       "<Figure size 640x480 with 1 Axes>"
      ]
     },
     "metadata": {},
     "output_type": "display_data"
    }
   ],
   "source": [
    "arr4 = np.random.normal(5.0, 1.0, 100000)  # 5.0 -- mean, 1.0 -- standard deviation\n",
    "plt.hist(arr4, 1000)\n",
    "plt.show()"
   ]
  },
  {
   "cell_type": "code",
   "execution_count": 31,
   "id": "58f62d74",
   "metadata": {},
   "outputs": [
    {
     "data": {
      "image/png": "[encoded data removed]",
      "text/plain": [
       "<Figure size 640x480 with 1 Axes>"
      ]
     },
     "metadata": {},
     "output_type": "display_data"
    }
   ],
   "source": [
    "arr4 = np.random.normal(5.0, 1.0, 100)\n",
    "arr5 = np.random.normal(7.0, 5.0, 100)\n",
    "plt.scatter(arr4, arr5, color='r', marker='*')\n",
    "plt.show()"
   ]
  },
  {
   "cell_type": "code",
   "execution_count": null,
   "id": "8dd805bd",
   "metadata": {},
   "outputs": [],
   "source": [
    "#LINEAR REGRESSION"
   ]
  },
  {
   "cell_type": "code",
   "execution_count": 31,
   "id": "d3e816ba",
   "metadata": {},
   "outputs": [
    {
     "data": {
      "image/png": "[encoded data removed]",
      "text/plain": [
       "<Figure size 640x480 with 1 Axes>"
      ]
     },
     "metadata": {},
     "output_type": "display_data"
    }
   ],
   "source": [
    "# Scipy provides efficient and reliable algorithms for numerical computation\n",
    "from scipy import stats \n",
    "import matplotlib.pyplot as plt\n",
    "import numpy as np\n",
    "\n",
    "\n",
    "x = [5,7,8,7,2,17,2,9,4,11,12,9,6]\n",
    "y = [99,86,87,88,111,86,103,87,94,45,89,90,100]\n",
    "\n",
    "slope, intercept, corrcoef, std_err, p = stats.linregress(x,y)\n",
    "\n",
    "def myfunc (x):\n",
    "    return slope*x + intercept\n",
    "\n",
    "pred_y =  list(map(myfunc, x))\n",
    "\n",
    "plt.scatter(x,y)\n",
    "plt.plot(x, pred_y)\n",
    "plt.show()"
   ]
  },
  {
   "cell_type": "code",
   "execution_count": 24,
   "id": "80cbe5ab",
   "metadata": {},
   "outputs": [
    {
     "data": {
      "image/png": "[encoded data removed]",
      "text/plain": [
       "<Figure size 640x480 with 1 Axes>"
      ]
     },
     "metadata": {},
     "output_type": "display_data"
    },
    {
     "data": {
      "image/png": "[encoded data removed]",
      "text/plain": [
       "<Figure size 640x480 with 1 Axes>"
      ]
     },
     "metadata": {},
     "output_type": "display_data"
    }
   ],
   "source": [
    "np.std(x)\n",
    "np.std(y)\n",
    "plt.subplot(2,1,1)\n",
    "plt.boxplot(x)\n",
    "plt.show()\n",
    "\n",
    "plt.subplot(2,1,2)\n",
    "plt.boxplot(y)\n",
    "plt.show()"
   ]
  },
  {
   "cell_type": "code",
   "execution_count": 25,
   "id": "e87cd25e",
   "metadata": {},
   "outputs": [
    {
     "data": {
      "text/plain": [
       "0.042986780835783105"
      ]
     },
     "execution_count": 25,
     "metadata": {},
     "output_type": "execute_result"
    }
   ],
   "source": [
    "std_err"
   ]
  },
  {
   "cell_type": "code",
   "execution_count": 32,
   "id": "f75196dc",
   "metadata": {},
   "outputs": [
    {
     "data": {
      "text/plain": [
       "-0.56771593034991"
      ]
     },
     "execution_count": 32,
     "metadata": {},
     "output_type": "execute_result"
    }
   ],
   "source": [
    "corrcoef"
   ]
  },
  {
   "cell_type": "code",
   "execution_count": null,
   "id": "f242e628",
   "metadata": {},
   "outputs": [],
   "source": [
    "#POLYNOMIAL REGRESSION"
   ]
  },
  {
   "cell_type": "code",
   "execution_count": 33,
   "id": "11f3e4d6",
   "metadata": {},
   "outputs": [
    {
     "data": {
      "image/png": "[encoded data removed]",
      "text/plain": [
       "<Figure size 640x480 with 1 Axes>"
      ]
     },
     "metadata": {},
     "output_type": "display_data"
    }
   ],
   "source": [
    "x = [1,2,3,5,6,7,8,9,10,12,13,14,15,16,18,19,21,22]\n",
    "y = [100,90,80,60,60,55,60,65,70,70,75,76,78,79,90,99,99,100]\n",
    "\n",
    "plt.scatter(x,y)\n",
    "plt.show()"
   ]
  },
  {
   "cell_type": "code",
   "execution_count": 37,
   "id": "2dcb2ff7",
   "metadata": {},
   "outputs": [
    {
     "data": {
      "image/png": "[encoded data removed]",
      "text/plain": [
       "<Figure size 640x480 with 1 Axes>"
      ]
     },
     "metadata": {},
     "output_type": "display_data"
    }
   ],
   "source": [
    "predi_y = np.poly1d(np.polyfit(x, y, 2))\n",
    "line = np.linspace(1,22,100)\n",
    "\n",
    "plt.scatter(x,y)\n",
    "plt.plot(line, predi_y(line))\n",
    "plt.show()"
   ]
  },
  {
   "cell_type": "code",
   "execution_count": 43,
   "id": "07d61757",
   "metadata": {},
   "outputs": [
    {
     "data": {
      "image/png": "[encoded data removed]",
      "text/plain": [
       "<Figure size 640x480 with 1 Axes>"
      ]
     },
     "metadata": {},
     "output_type": "display_data"
    }
   ],
   "source": [
    "predi_y = np.poly1d(np.polyfit(x, y, 3))\n",
    "line = np.linspace(1,22,100)  # giving linspace is of utter importance otherwise the line will be straight \n",
    "\n",
    "plt.scatter(x,y)\n",
    "plt.plot(line, predi_y(line))\n",
    "plt.show()"
   ]
  },
  {
   "cell_type": "code",
   "execution_count": 39,
   "id": "ab061f23",
   "metadata": {},
   "outputs": [
    {
     "data": {
      "image/png": "[encoded data removed]",
      "text/plain": [
       "<Figure size 640x480 with 1 Axes>"
      ]
     },
     "metadata": {},
     "output_type": "display_data"
    }
   ],
   "source": [
    "predi_y = np.poly1d(np.polyfit(x, y, 4))\n",
    "line = np.linspace(1,22,100)\n",
    "\n",
    "plt.scatter(x,y)\n",
    "plt.plot(line, predi_y(line))\n",
    "plt.show()"
   ]
  },
  {
   "cell_type": "code",
   "execution_count": 40,
   "id": "4fa11dcc",
   "metadata": {},
   "outputs": [
    {
     "data": {
      "image/png": "[encoded data removed]",
      "text/plain": [
       "<Figure size 640x480 with 1 Axes>"
      ]
     },
     "metadata": {},
     "output_type": "display_data"
    }
   ],
   "source": [
    "predi_y = np.poly1d(np.polyfit(x, y, 10))    # NOW here we see that using higher degrees of polynomial lead to overfitting..... So it's important to make a tradeoff with the degree of polynomial used\n",
    "line = np.linspace(1,22,100)\n",
    "\n",
    "plt.scatter(x,y)\n",
    "plt.plot(line, predi_y(line))\n",
    "plt.show()"
   ]
  },
  {
   "cell_type": "code",
   "execution_count": 61,
   "id": "f029fd64",
   "metadata": {},
   "outputs": [
    {
     "name": "stdout",
     "output_type": "stream",
     "text": [
      "0.9432150416451027\n"
     ]
    }
   ],
   "source": [
    "from sklearn.metrics import r2_score    # r2_score tells the relationship between our data values\n",
    "\n",
    "x = [1,2,3,5,6,7,8,9,10,12,13,14,15,16,18,19,21,22]\n",
    "y = [100,90,80,60,60,55,60,65,70,70,75,76,78,79,90,99,99,100]\n",
    "\n",
    "predi_y = np.poly1d(np.polyfit(x, y, 3))   \n",
    "print(r2_score(y, predi_y(x)))"
   ]
  },
  {
   "cell_type": "code",
   "execution_count": 62,
   "id": "6270cd8a",
   "metadata": {},
   "outputs": [
    {
     "name": "stdout",
     "output_type": "stream",
     "text": [
      "88.87331269697987\n"
     ]
    }
   ],
   "source": [
    "print(predi_y(17))   # find the speed of a car travelling at the 17th hour "
   ]
  },
  {
   "cell_type": "code",
   "execution_count": 63,
   "id": "06556bed",
   "metadata": {},
   "outputs": [
    {
     "data": {
      "text/plain": [
       "0.009952707566680652"
      ]
     },
     "execution_count": 63,
     "metadata": {},
     "output_type": "execute_result"
    }
   ],
   "source": [
    "x = [89,43,36,36,95,10,66,34,38,20,26,29,48,64,6,5,36,66,72,40]\n",
    "y = [21,46,3,35,67,95,53,72,58,10,26,34,90,33,38,20,56,2,47,15]\n",
    "\n",
    "mymodel = np.poly1d(np.polyfit(x,y,3))\n",
    "\n",
    "r2_score(y, mymodel(x))    # data sets are barely related to each other -- means fitting polynomial regression isn't right here"
   ]
  },
  {
   "cell_type": "code",
   "execution_count": 64,
   "id": "68a03da8",
   "metadata": {},
   "outputs": [],
   "source": [
    "# MULTIPLE REGRESSION"
   ]
  },
  {
   "cell_type": "code",
   "execution_count": 68,
   "id": "8e4877a4",
   "metadata": {},
   "outputs": [],
   "source": [
    "import pandas as pd\n",
    "\n",
    "data = pd.read_csv('data_CO2_emission.csv')\n",
    "X = data[['Weight', 'Volume']]  # --independent variables\n",
    "y = data['CO2']  # --dependent variables"
   ]
  },
  {
   "cell_type": "code",
   "execution_count": 80,
   "id": "d9414afd",
   "metadata": {},
   "outputs": [
    {
     "data": {
      "text/plain": [
       "LinearRegression()"
      ]
     },
     "execution_count": 80,
     "metadata": {},
     "output_type": "execute_result"
    }
   ],
   "source": [
    "from sklearn import linear_model\n",
    "\n",
    "feature_names = ['Car', 'Model', 'Volume', 'Weights']\n",
    "regr = linear_model.LinearRegression()\n",
    "regr.fit(X, y)   # training the model to find a relationship between the two values given to it"
   ]
  },
  {
   "cell_type": "code",
   "execution_count": 82,
   "id": "9246e3f8",
   "metadata": {},
   "outputs": [
    {
     "name": "stdout",
     "output_type": "stream",
     "text": [
      "[107.2087328]\n"
     ]
    },
    {
     "name": "stderr",
     "output_type": "stream",
     "text": [
      "D:\\Downloads\\ANACONDA\\lib\\site-packages\\sklearn\\base.py:450: UserWarning: X does not have valid feature names, but LinearRegression was fitted with feature names\n",
      "  warnings.warn(\n"
     ]
    }
   ],
   "source": [
    "predicted_co2 = regr.predict([[2300, 1300]])   #  predicting the CO2 emission for unknown weight and volume values\n",
    "print(predicted_co2)"
   ]
  },
  {
   "cell_type": "code",
   "execution_count": 83,
   "id": "66e0058d",
   "metadata": {},
   "outputs": [
    {
     "name": "stdout",
     "output_type": "stream",
     "text": [
      "[0.00755095 0.00780526]\n"
     ]
    }
   ],
   "source": [
    "print(regr.coef_)  # shows the values for weight and volume"
   ]
  },
  {
   "cell_type": "code",
   "execution_count": 84,
   "id": "fca4b22a",
   "metadata": {},
   "outputs": [
    {
     "name": "stderr",
     "output_type": "stream",
     "text": [
      "D:\\Downloads\\ANACONDA\\lib\\site-packages\\sklearn\\base.py:450: UserWarning: X does not have valid feature names, but LinearRegression was fitted with feature names\n",
      "  warnings.warn(\n"
     ]
    },
    {
     "data": {
      "text/plain": [
       "array([114.75968007])"
      ]
     },
     "execution_count": 84,
     "metadata": {},
     "output_type": "execute_result"
    }
   ],
   "source": [
    "regr.predict([[3300, 1300]])"
   ]
  }
 ],
 "metadata": {
  "kernelspec": {
   "display_name": "Python 3 (ipykernel)",
   "language": "python",
   "name": "python3"
  },
  "language_info": {
   "codemirror_mode": {
    "name": "ipython",
    "version": 3
   },
   "file_extension": ".py",
   "mimetype": "text/x-python",
   "name": "python",
   "nbconvert_exporter": "python",
   "pygments_lexer": "ipython3",
   "version": "3.9.13"
  }
 },
 "nbformat": 4,
 "nbformat_minor": 5
}
