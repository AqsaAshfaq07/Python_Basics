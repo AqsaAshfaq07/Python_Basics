{
 "cells": [
  {
   "cell_type": "code",
   "execution_count": 1,
   "id": "0da50835",
   "metadata": {},
   "outputs": [
    {
     "data": {
      "text/plain": [
       "[2, 3, 4, 5]"
      ]
     },
     "execution_count": 1,
     "metadata": {},
     "output_type": "execute_result"
    }
   ],
   "source": [
    "import numpy as np\n",
    "list1 = [2,3,4,5]\n",
    "list1"
   ]
  },
  {
   "cell_type": "code",
   "execution_count": 2,
   "id": "745cfc5d",
   "metadata": {},
   "outputs": [
    {
     "data": {
      "text/plain": [
       "[2, 3, 4, 5, 6]"
      ]
     },
     "execution_count": 2,
     "metadata": {},
     "output_type": "execute_result"
    }
   ],
   "source": [
    "list1.append(6)\n",
    "list1"
   ]
  },
  {
   "cell_type": "code",
   "execution_count": 3,
   "id": "5868f38c",
   "metadata": {},
   "outputs": [
    {
     "data": {
      "text/plain": [
       "5"
      ]
     },
     "execution_count": 3,
     "metadata": {},
     "output_type": "execute_result"
    }
   ],
   "source": [
    "len(list1)"
   ]
  },
  {
   "cell_type": "code",
   "execution_count": 4,
   "id": "20317b96",
   "metadata": {},
   "outputs": [
    {
     "data": {
      "text/plain": [
       "True"
      ]
     },
     "execution_count": 4,
     "metadata": {},
     "output_type": "execute_result"
    }
   ],
   "source": [
    "x = lambda a : a in list1\n",
    "x(6)"
   ]
  },
  {
   "cell_type": "code",
   "execution_count": 5,
   "id": "b085a3f2",
   "metadata": {},
   "outputs": [
    {
     "data": {
      "text/plain": [
       "8"
      ]
     },
     "execution_count": 5,
     "metadata": {},
     "output_type": "execute_result"
    }
   ],
   "source": [
    "class my_class:\n",
    "    x = 8\n",
    "\n",
    "obj1 = my_class()\n",
    "obj1.x"
   ]
  },
  {
   "cell_type": "code",
   "execution_count": 6,
   "id": "caf2f157",
   "metadata": {},
   "outputs": [
    {
     "name": "stdout",
     "output_type": "stream",
     "text": [
      "<__main__.class1 object at 0x0000020AC8632B20>\n"
     ]
    }
   ],
   "source": [
    "class class1:\n",
    "    def __init__ (self, name, age):\n",
    "        self.name = name\n",
    "        self.age = age\n",
    "        \n",
    "obj1 = class1('john', 14)\n",
    "print(obj1)\n",
    "# Any word can be used instead of self ... points to the first member of the class"
   ]
  },
  {
   "cell_type": "code",
   "execution_count": 7,
   "id": "c241a2d7",
   "metadata": {},
   "outputs": [],
   "source": [
    "class class1:\n",
    "    def __init__ (this, name, age):\n",
    "        this.name = name\n",
    "        this.age = age\n",
    "        \n",
    "    def __str__(this):\n",
    "        return f\"{this.name}({this.age})\"        \n",
    "        \n",
    "obj1 = class1('john', 14)\n",
    "del obj1"
   ]
  },
  {
   "cell_type": "code",
   "execution_count": 8,
   "id": "551f8c81",
   "metadata": {},
   "outputs": [
    {
     "name": "stdout",
     "output_type": "stream",
     "text": [
      "hello aqsaashfaq\n"
     ]
    }
   ],
   "source": [
    "class class2(class1):\n",
    "    def __init__ (this, fname, lname):\n",
    "        super().__init__ (fname, lname)\n",
    "        this.fname = fname\n",
    "        this.lname = lname\n",
    "        \n",
    "    def welcome(this):\n",
    "        return ( \"hello \" + this.fname + this.lname)\n",
    "        \n",
    "student = class2(\"aqsa\", \"ashfaq\")\n",
    "print(student.welcome())"
   ]
  },
  {
   "cell_type": "code",
   "execution_count": 9,
   "id": "f65338c9",
   "metadata": {},
   "outputs": [
    {
     "name": "stdout",
     "output_type": "stream",
     "text": [
      "1\n",
      "2\n"
     ]
    }
   ],
   "source": [
    "mytuple = (1,2,3)\n",
    "myit = iter(mytuple)\n",
    "print(next(myit))\n",
    "print(next(myit))\n"
   ]
  },
  {
   "cell_type": "code",
   "execution_count": 10,
   "id": "48c3c761",
   "metadata": {},
   "outputs": [
    {
     "name": "stdout",
     "output_type": "stream",
     "text": [
      "banana\n",
      "apple\n"
     ]
    }
   ],
   "source": [
    "mystr = [\"banana\", \"apple\"]\n",
    "myit = iter(mystr)\n",
    "\n",
    "print(next(myit))\n",
    "print(next(myit))"
   ]
  },
  {
   "cell_type": "code",
   "execution_count": null,
   "id": "3f8e9c72",
   "metadata": {},
   "outputs": [],
   "source": [
    "#PYTHON CLASSES AND FUNCTIONS"
   ]
  },
  {
   "cell_type": "code",
   "execution_count": 11,
   "id": "7e18d215",
   "metadata": {},
   "outputs": [
    {
     "name": "stdout",
     "output_type": "stream",
     "text": [
      "1\n",
      "2\n",
      "3\n",
      "4\n"
     ]
    }
   ],
   "source": [
    "class MyNumbers:\n",
    "  def __iter__(self):\n",
    "    self.a = 1\n",
    "    return self\n",
    "\n",
    "  def __next__(self):\n",
    "        if self.a <= 4:\n",
    "            x = self.a\n",
    "            self.a += 1\n",
    "            return x\n",
    "        else :\n",
    "            raise StopIteration\n",
    "    \n",
    "\n",
    "myclass = MyNumbers()\n",
    "myiter = iter(myclass)\n",
    "\n",
    "print(next(myiter))\n",
    "print(next(myiter))\n",
    "print(next(myiter))\n",
    "print(next(myiter))"
   ]
  },
  {
   "cell_type": "code",
   "execution_count": 12,
   "id": "fc6be8fe",
   "metadata": {},
   "outputs": [
    {
     "name": "stdout",
     "output_type": "stream",
     "text": [
      "<function <lambda> at 0x0000020AC722A790>\n"
     ]
    }
   ],
   "source": [
    "def myf():\n",
    "    print(x)\n",
    "    def another():\n",
    "         x = 2\n",
    "    \n",
    "myf()"
   ]
  },
  {
   "cell_type": "code",
   "execution_count": 13,
   "id": "efaf3676",
   "metadata": {},
   "outputs": [
    {
     "name": "stdout",
     "output_type": "stream",
     "text": [
      "200\n",
      "200\n"
     ]
    }
   ],
   "source": [
    "x = 300\n",
    "\n",
    "def myfunc():\n",
    "  global x \n",
    "  x = 200\n",
    "  print(x)\n",
    "\n",
    "myfunc()\n",
    "\n",
    "print(x)"
   ]
  },
  {
   "cell_type": "code",
   "execution_count": 14,
   "id": "3e12d899",
   "metadata": {},
   "outputs": [
    {
     "data": {
      "text/plain": [
       "'Windows'"
      ]
     },
     "execution_count": 14,
     "metadata": {},
     "output_type": "execute_result"
    }
   ],
   "source": [
    "import platform as pt\n",
    "pt.system()"
   ]
  },
  {
   "cell_type": "code",
   "execution_count": null,
   "id": "e3fb9dea",
   "metadata": {},
   "outputs": [],
   "source": [
    "#PYTHON DATE AND TIME"
   ]
  },
  {
   "cell_type": "code",
   "execution_count": 15,
   "id": "55e7fb3e",
   "metadata": {},
   "outputs": [
    {
     "data": {
      "text/plain": [
       "datetime.datetime(2023, 2, 20, 21, 8, 6, 885959)"
      ]
     },
     "execution_count": 15,
     "metadata": {},
     "output_type": "execute_result"
    }
   ],
   "source": [
    "import datetime\n",
    "x = datetime.datetime.now()\n",
    "x"
   ]
  },
  {
   "cell_type": "code",
   "execution_count": 16,
   "id": "878ec3c2",
   "metadata": {},
   "outputs": [
    {
     "data": {
      "text/plain": [
       "2023"
      ]
     },
     "execution_count": 16,
     "metadata": {},
     "output_type": "execute_result"
    }
   ],
   "source": [
    "x.year"
   ]
  },
  {
   "cell_type": "code",
   "execution_count": 17,
   "id": "cbf66a3f",
   "metadata": {},
   "outputs": [
    {
     "data": {
      "text/plain": [
       "'Monday'"
      ]
     },
     "execution_count": 17,
     "metadata": {},
     "output_type": "execute_result"
    }
   ],
   "source": [
    "x.strftime(\"%A\")"
   ]
  },
  {
   "cell_type": "code",
   "execution_count": 23,
   "id": "cd3ec731",
   "metadata": {},
   "outputs": [
    {
     "data": {
      "text/plain": [
       "'Mon Feb 20 21:08:06 2023'"
      ]
     },
     "execution_count": 23,
     "metadata": {},
     "output_type": "execute_result"
    }
   ],
   "source": [
    "x.strftime(\"%c\")"
   ]
  },
  {
   "cell_type": "code",
   "execution_count": 25,
   "id": "51644b50",
   "metadata": {},
   "outputs": [
    {
     "data": {
      "text/plain": [
       "5"
      ]
     },
     "execution_count": 25,
     "metadata": {},
     "output_type": "execute_result"
    }
   ],
   "source": [
    "arr = [1,2,3,4,5]\n",
    "max(arr)"
   ]
  },
  {
   "cell_type": "code",
   "execution_count": 32,
   "id": "6b59c777",
   "metadata": {},
   "outputs": [
    {
     "data": {
      "text/plain": [
       "6"
      ]
     },
     "execution_count": 32,
     "metadata": {},
     "output_type": "execute_result"
    }
   ],
   "source": [
    "a = -7; b =-8; c = 9\n",
    "abs(a+b+c)"
   ]
  },
  {
   "cell_type": "code",
   "execution_count": null,
   "id": "564c3a64",
   "metadata": {},
   "outputs": [],
   "source": [
    "#PYTHON  |  JSON"
   ]
  },
  {
   "cell_type": "code",
   "execution_count": 38,
   "id": "75062399",
   "metadata": {},
   "outputs": [
    {
     "data": {
      "text/plain": [
       "3.141592653589793"
      ]
     },
     "execution_count": 38,
     "metadata": {},
     "output_type": "execute_result"
    }
   ],
   "source": [
    "import math\n",
    "x =int(math.sqrt(64))\n",
    "x\n",
    "math.pi\n"
   ]
  },
  {
   "cell_type": "code",
   "execution_count": 47,
   "id": "dcd72fda",
   "metadata": {},
   "outputs": [
    {
     "data": {
      "text/plain": [
       "20"
      ]
     },
     "execution_count": 47,
     "metadata": {},
     "output_type": "execute_result"
    }
   ],
   "source": [
    "import json\n",
    "x = '{\"name\": \"aqsa\", \"age\": 20}'\n",
    "y = json.loads(x)\n",
    "y[\"age\"]"
   ]
  },
  {
   "cell_type": "code",
   "execution_count": 52,
   "id": "1d8d2143",
   "metadata": {},
   "outputs": [
    {
     "data": {
      "text/plain": [
       "'{\"age\": 20, \"name\": \"Aqsa\"}'"
      ]
     },
     "execution_count": 52,
     "metadata": {},
     "output_type": "execute_result"
    }
   ],
   "source": [
    "import json\n",
    "student = {  'name': 'Aqsa', 'age': 20 }\n",
    "json_student = json.dumps(student, sort_keys= True)\n",
    "json_student"
   ]
  },
  {
   "cell_type": "code",
   "execution_count": null,
   "id": "95abc94f",
   "metadata": {},
   "outputs": [],
   "source": [
    "#PYTHON REGULAR EXPRESSIONS"
   ]
  },
  {
   "cell_type": "code",
   "execution_count": 58,
   "id": "0ffd8e60",
   "metadata": {},
   "outputs": [
    {
     "name": "stdout",
     "output_type": "stream",
     "text": [
      "yes!!\n"
     ]
    }
   ],
   "source": [
    "import re\n",
    "text = \"A quick brown fox jumps over the lazy dog.\"\n",
    "x = re.search(\"the|quick\", text)\n",
    "if x:\n",
    "    print('yes!!')\n",
    "else:\n",
    "    print('no:((')"
   ]
  },
  {
   "cell_type": "code",
   "execution_count": 61,
   "id": "7632e5db",
   "metadata": {},
   "outputs": [],
   "source": [
    "txt = \"The name of the new mayor is Mr. Melphoy!!. I am very impressed with the new mayor.\"\n",
    "find = re.findall(\"the/gi\", txt)\n",
    "if find :\n",
    "    pass"
   ]
  },
  {
   "cell_type": "code",
   "execution_count": 66,
   "id": "f6b932f6",
   "metadata": {},
   "outputs": [
    {
     "name": "stdout",
     "output_type": "stream",
     "text": [
      "['The', 'name', 'of', 'the new mayor is Mr. Melphoy!!. I am very impressed with the new mayor.']\n"
     ]
    }
   ],
   "source": [
    "splitt = re.split(\"\\s\", txt, 3)\n",
    "print(splitt)"
   ]
  },
  {
   "cell_type": "code",
   "execution_count": 74,
   "id": "30d0dfe6",
   "metadata": {},
   "outputs": [
    {
     "data": {
      "text/plain": [
       "'The name of respected new mayor is Mr. Melphoy!!. I am very impressed with respected new mayor.'"
      ]
     },
     "execution_count": 74,
     "metadata": {},
     "output_type": "execute_result"
    }
   ],
   "source": [
    "substitute = re.sub(\"the\", \"respected\", txt)\n",
    "substitute"
   ]
  },
  {
   "cell_type": "code",
   "execution_count": null,
   "id": "61728ca4",
   "metadata": {},
   "outputs": [],
   "source": [
    "#PYTHON TRY....EXCEPT"
   ]
  },
  {
   "cell_type": "code",
   "execution_count": 85,
   "id": "d2d646a0",
   "metadata": {},
   "outputs": [
    {
     "name": "stdout",
     "output_type": "stream",
     "text": [
      "<re.Match object; span=(2, 7), match='quick'>\n",
      "4\n",
      "All fuss resolved\n"
     ]
    }
   ],
   "source": [
    "try:\n",
    "    print(x)\n",
    "except:\n",
    "    print(\"No value defined\")\n",
    "else:\n",
    "    print(4)\n",
    "finally:\n",
    "    print('All fuss resolved')"
   ]
  },
  {
   "cell_type": "code",
   "execution_count": 86,
   "id": "d5cc2e82",
   "metadata": {},
   "outputs": [
    {
     "name": "stdout",
     "output_type": "stream",
     "text": [
      "-1\n"
     ]
    }
   ],
   "source": [
    "x = -1\n",
    "print(x)"
   ]
  },
  {
   "cell_type": "code",
   "execution_count": 93,
   "id": "f024a446",
   "metadata": {},
   "outputs": [
    {
     "ename": "Exception",
     "evalue": "No negative values supposed to be printed",
     "output_type": "error",
     "traceback": [
      "\u001b[1;31m---------------------------------------------------------------------------\u001b[0m",
      "\u001b[1;31mException\u001b[0m                                 Traceback (most recent call last)",
      "\u001b[1;32m~\\AppData\\Local\\Temp\\ipykernel_4264\\2802670803.py\u001b[0m in \u001b[0;36m<module>\u001b[1;34m\u001b[0m\n\u001b[0;32m      1\u001b[0m \u001b[0mx\u001b[0m \u001b[1;33m=\u001b[0m \u001b[1;33m-\u001b[0m\u001b[1;36m1\u001b[0m\u001b[1;33m\u001b[0m\u001b[1;33m\u001b[0m\u001b[0m\n\u001b[0;32m      2\u001b[0m \u001b[1;32mif\u001b[0m \u001b[0mx\u001b[0m\u001b[1;33m<\u001b[0m\u001b[1;36m0\u001b[0m\u001b[1;33m:\u001b[0m\u001b[1;33m\u001b[0m\u001b[1;33m\u001b[0m\u001b[0m\n\u001b[1;32m----> 3\u001b[1;33m     \u001b[1;32mraise\u001b[0m \u001b[0mException\u001b[0m\u001b[1;33m(\u001b[0m\u001b[1;34m\"No negative values supposed to be printed\"\u001b[0m\u001b[1;33m)\u001b[0m\u001b[1;33m\u001b[0m\u001b[1;33m\u001b[0m\u001b[0m\n\u001b[0m",
      "\u001b[1;31mException\u001b[0m: No negative values supposed to be printed"
     ]
    }
   ],
   "source": [
    "x = -1\n",
    "if x<0:\n",
    "    raise Exception(\"No negative values supposed to be printed\")"
   ]
  },
  {
   "cell_type": "code",
   "execution_count": null,
   "id": "c267b763",
   "metadata": {},
   "outputs": [],
   "source": [
    "#PYTHON INPUT HANDLING"
   ]
  },
  {
   "cell_type": "code",
   "execution_count": null,
   "id": "86bf28a7",
   "metadata": {},
   "outputs": [],
   "source": [
    "num1 = input(\" Enter num1\")\n",
    "num2 = input(\" Enter num2\")\n",
    "op = input(\"Tell the operation you want to be done on the numbers\")\n",
    "def calculate (num1, num2):\n",
    "    return int(num1) + int(num2)\n",
    "calculate(num1, num2)"
   ]
  },
  {
   "cell_type": "code",
   "execution_count": null,
   "id": "6b66791c",
   "metadata": {},
   "outputs": [],
   "source": [
    "# PYTHON FILE HANDLING"
   ]
  },
  {
   "cell_type": "code",
   "execution_count": 31,
   "id": "7665eb71",
   "metadata": {},
   "outputs": [
    {
     "name": "stdout",
     "output_type": "stream",
     "text": [
      "\n"
     ]
    }
   ],
   "source": [
    "x = open('world_population.csv', 'r')\n",
    "print(x.read(500))"
   ]
  },
  {
   "cell_type": "code",
   "execution_count": 10,
   "id": "79ec0f83",
   "metadata": {},
   "outputs": [
    {
     "name": "stdout",
     "output_type": "stream",
     "text": [
      ",ASM,American Samoa,Pago Pago,Oceania,44273,46189,51368,54849,58230,47818,32886,27075,199,222.4774,0.9831,0\n",
      "\n"
     ]
    }
   ],
   "source": [
    "print(x.readline())"
   ]
  },
  {
   "cell_type": "code",
   "execution_count": 22,
   "id": "930465fd",
   "metadata": {},
   "outputs": [],
   "source": [
    "for i in x:\n",
    "    print(i)"
   ]
  },
  {
   "cell_type": "code",
   "execution_count": 33,
   "id": "b315601b",
   "metadata": {},
   "outputs": [
    {
     "ename": "PermissionError",
     "evalue": "[WinError 32] The process cannot access the file because it is being used by another process: 'world_population.csv'",
     "output_type": "error",
     "traceback": [
      "\u001b[1;31m---------------------------------------------------------------------------\u001b[0m",
      "\u001b[1;31mPermissionError\u001b[0m                           Traceback (most recent call last)",
      "\u001b[1;32m~\\AppData\\Local\\Temp\\ipykernel_11892\\2567719631.py\u001b[0m in \u001b[0;36m<module>\u001b[1;34m\u001b[0m\n\u001b[0;32m      2\u001b[0m \u001b[1;32mimport\u001b[0m \u001b[0mos\u001b[0m\u001b[1;33m\u001b[0m\u001b[1;33m\u001b[0m\u001b[0m\n\u001b[0;32m      3\u001b[0m \u001b[1;32mif\u001b[0m \u001b[0mos\u001b[0m\u001b[1;33m.\u001b[0m\u001b[0mpath\u001b[0m\u001b[1;33m.\u001b[0m\u001b[0mexists\u001b[0m\u001b[1;33m(\u001b[0m\u001b[1;34m'world_population.csv'\u001b[0m\u001b[1;33m)\u001b[0m\u001b[1;33m:\u001b[0m\u001b[1;33m\u001b[0m\u001b[1;33m\u001b[0m\u001b[0m\n\u001b[1;32m----> 4\u001b[1;33m     \u001b[0mos\u001b[0m\u001b[1;33m.\u001b[0m\u001b[0mremove\u001b[0m\u001b[1;33m(\u001b[0m\u001b[1;34m'world_population.csv'\u001b[0m\u001b[1;33m)\u001b[0m\u001b[1;33m\u001b[0m\u001b[1;33m\u001b[0m\u001b[0m\n\u001b[0m\u001b[0;32m      5\u001b[0m \u001b[1;32melse\u001b[0m\u001b[1;33m:\u001b[0m\u001b[1;33m\u001b[0m\u001b[1;33m\u001b[0m\u001b[0m\n\u001b[0;32m      6\u001b[0m     \u001b[0mprint\u001b[0m\u001b[1;33m(\u001b[0m\u001b[1;34m'File isn\\'t available'\u001b[0m\u001b[1;33m)\u001b[0m\u001b[1;33m\u001b[0m\u001b[1;33m\u001b[0m\u001b[0m\n",
      "\u001b[1;31mPermissionError\u001b[0m: [WinError 32] The process cannot access the file because it is being used by another process: 'world_population.csv'"
     ]
    }
   ],
   "source": [
    "# to remove a file\n",
    "import os\n",
    "if os.path.exists('world_population.csv'):\n",
    "    os.remove('world_population.csv')\n",
    "else:\n",
    "    print('File isn\\'t available')\n",
    "\n",
    "    \n",
    "# to remove a folder \n",
    "os.rmdir('folder name')"
   ]
  },
  {
   "cell_type": "code",
   "execution_count": 12,
   "id": "f81d9671",
   "metadata": {},
   "outputs": [],
   "source": [
    "x.close()"
   ]
  }
 ],
 "metadata": {
  "kernelspec": {
   "display_name": "Python 3 (ipykernel)",
   "language": "python",
   "name": "python3"
  },
  "language_info": {
   "codemirror_mode": {
    "name": "ipython",
    "version": 3
   },
   "file_extension": ".py",
   "mimetype": "text/x-python",
   "name": "python",
   "nbconvert_exporter": "python",
   "pygments_lexer": "ipython3",
   "version": "3.9.13"
  }
 },
 "nbformat": 4,
 "nbformat_minor": 5
}
